{
 "cells": [
  {
   "cell_type": "code",
   "execution_count": 1,
   "metadata": {
    "collapsed": false
   },
   "outputs": [
    {
     "name": "stderr",
     "output_type": "stream",
     "text": [
      "┌ Info: Precompiling MendelIHT [921c7187-1484-5754-b919-5d3ed9ac03c4]\n",
      "└ @ Base loading.jl:1317\n"
     ]
    }
   ],
   "source": [
    "using Revise\n",
    "using MendelIHT\n",
    "using SnpArrays\n",
    "using Random\n",
    "using GLM\n",
    "using DelimitedFiles\n",
    "using Test\n",
    "using Distributions\n",
    "using LinearAlgebra\n",
    "using CSV\n",
    "using DataFrames\n",
    "using StatsBase\n",
    "BLAS.set_num_threads(1) # remember to set BLAS threads to 1 !!!\n",
    "#     using TraitSimulation, OrdinalMultinomialModels, VarianceComponentModels"
   ]
  },
  {
   "cell_type": "markdown",
   "metadata": {},
   "source": [
    "# Univariate Gaussian trait"
   ]
  },
  {
   "cell_type": "code",
   "execution_count": 2,
   "metadata": {
    "collapsed": false
   },
   "outputs": [],
   "source": [
    "n = 1000  # number of samples\n",
    "p = 10000 # number of SNPs\n",
    "q = 5     # number of non-genetic covariates\n",
    "k = 10    # number of causal SNPs per trait\n",
    "d = Normal\n",
    "l = canonicallink(d())\n",
    "\n",
    "# set random seed for reproducibility\n",
    "Random.seed!(2021)\n",
    "\n",
    "# simulate `.bed` file with no missing data\n",
    "x = simulate_random_snparray(undef, n, p)\n",
    "xla = SnpLinAlg{Float64}(x, model=ADDITIVE_MODEL, center=true, scale=true) \n",
    "\n",
    "# nongenetic covarites, 1st column is intercept\n",
    "z = randn(n, q)\n",
    "z[:, 1] .= 1\n",
    "c = randn(q)\n",
    "\n",
    "# simulate response y, true model b, and the correct non-0 positions of b\n",
    "y, true_b, correct_position = simulate_random_response(xla, k, d, l, Zu=z*c);"
   ]
  },
  {
   "cell_type": "markdown",
   "metadata": {},
   "source": [
    "## Run IHT"
   ]
  },
  {
   "cell_type": "code",
   "execution_count": 4,
   "metadata": {
    "collapsed": false,
    "scrolled": false
   },
   "outputs": [
    {
     "name": "stdout",
     "output_type": "stream",
     "text": [
      "****                   MendelIHT Version 1.4.1                  ****\n",
      "****     Benjamin Chu, Kevin Keys, Chris German, Hua Zhou       ****\n",
      "****   Jin Zhou, Eric Sobel, Janet Sinsheimer, Kenneth Lange    ****\n",
      "****                                                            ****\n",
      "****                 Please cite our paper!                     ****\n",
      "****         https://doi.org/10.1093/gigascience/giaa044        ****\n",
      "\n",
      "Initializing β to univariate regression values...\n",
      "...completed in 0.1 seconds.\n",
      "\n",
      "Running sparse linear regression\n",
      "Number of threads = 8\n",
      "Link functin = IdentityLink()\n",
      "Sparsity parameter (k) = 10\n",
      "Prior weight scaling = off\n",
      "Doubly sparse projection = off\n",
      "Debias = off\n",
      "Max IHT iterations = 200\n",
      "Converging when tol < 0.0001 and iteration ≥ 5:\n",
      "\n",
      "Iteration 1: loglikelihood = -3002.723211083534, backtracks = 0, tol = 0.6926932469992776\n",
      "Iteration 2: loglikelihood = -1805.3237453585161, backtracks = 0, tol = 0.34637684087692966\n",
      "Iteration 3: loglikelihood = -1460.2586248070177, backtracks = 0, tol = 0.14587250928135054\n",
      "Iteration 4: loglikelihood = -1423.3099178063696, backtracks = 0, tol = 0.051734443856394426\n",
      "Iteration 5: loglikelihood = -1422.4175728900736, backtracks = 0, tol = 0.006748431563871328\n",
      "Iteration 6: loglikelihood = -1422.404406446152, backtracks = 0, tol = 0.000651137890535953\n",
      "Iteration 7: loglikelihood = -1422.4040859621814, backtracks = 0, tol = 0.00012325020747103993\n",
      "Iteration 8: loglikelihood = -1422.4040762615862, backtracks = 0, tol = 2.4236459572952715e-5\n",
      "  0.780499 seconds (1.64 M allocations: 160.835 MiB, 4.27% gc time, 59.58% compilation time)\n"
     ]
    },
    {
     "data": {
      "text/plain": [
       "\n",
       "IHT estimated 10 nonzero SNP predictors and 5 non-genetic predictors.\n",
       "\n",
       "Compute time (sec):     0.06963992118835449\n",
       "Final loglikelihood:    -1422.4040762615862\n",
       "SNP PVE:                0.7545490924593975\n",
       "Iterations:             8\n",
       "\n",
       "Selected genetic predictors:\n",
       "\u001b[1m10×2 DataFrame\u001b[0m\n",
       "\u001b[1m Row \u001b[0m│\u001b[1m Position \u001b[0m\u001b[1m Estimated_β \u001b[0m\n",
       "\u001b[1m     \u001b[0m│\u001b[90m Int64    \u001b[0m\u001b[90m Float64     \u001b[0m\n",
       "─────┼───────────────────────\n",
       "   1 │     1487    -0.678565\n",
       "   2 │     1734    -0.169403\n",
       "   3 │     2097    -2.13101\n",
       "   4 │     2266    -0.235182\n",
       "   5 │     2551     0.16789\n",
       "   6 │     4775     2.29512\n",
       "   7 │     4791     0.763704\n",
       "   8 │     4955    -0.417309\n",
       "   9 │     7933    -1.72017\n",
       "  10 │     8710    -0.565201\n",
       "\n",
       "Selected nongenetic predictors:\n",
       "\u001b[1m5×2 DataFrame\u001b[0m\n",
       "\u001b[1m Row \u001b[0m│\u001b[1m Position \u001b[0m\u001b[1m Estimated_β \u001b[0m\n",
       "\u001b[1m     \u001b[0m│\u001b[90m Int64    \u001b[0m\u001b[90m Float64     \u001b[0m\n",
       "─────┼───────────────────────\n",
       "   1 │        1    0.125532\n",
       "   2 │        2    1.15239\n",
       "   3 │        3   -0.58176\n",
       "   4 │        4    1.42219\n",
       "   5 │        5   -0.0582245"
      ]
     },
     "execution_count": 4,
     "metadata": {},
     "output_type": "execute_result"
    }
   ],
   "source": [
    "@time result = fit_iht(y, xla, z, k=10, init_beta=true)"
   ]
  },
  {
   "cell_type": "markdown",
   "metadata": {},
   "source": [
    "## Check answer"
   ]
  },
  {
   "cell_type": "code",
   "execution_count": 5,
   "metadata": {
    "collapsed": false
   },
   "outputs": [
    {
     "data": {
      "text/plain": [
       "10×2 Matrix{Float64}:\n",
       " -0.674202  -0.678565\n",
       " -0.212237  -0.169403\n",
       " -2.16656   -2.13101\n",
       " -0.203392  -0.235182\n",
       "  0.165819   0.16789\n",
       "  2.30263    2.29512\n",
       "  0.687439   0.763704\n",
       " -0.405677  -0.417309\n",
       " -1.66149   -1.72017\n",
       " -0.546303  -0.565201"
      ]
     },
     "execution_count": 5,
     "metadata": {},
     "output_type": "execute_result"
    }
   ],
   "source": [
    "[true_b[correct_position] result.beta[correct_position]]"
   ]
  },
  {
   "cell_type": "code",
   "execution_count": 6,
   "metadata": {
    "collapsed": false
   },
   "outputs": [
    {
     "data": {
      "text/plain": [
       "5×2 Matrix{Float64}:\n",
       "  0.125532    0.0284927\n",
       "  1.15239     1.13825\n",
       " -0.58176    -0.566457\n",
       "  1.42219     1.35203\n",
       " -0.0582245  -0.0531031"
      ]
     },
     "execution_count": 6,
     "metadata": {},
     "output_type": "execute_result"
    }
   ],
   "source": [
    "# non genetic covariates\n",
    "[result.c c]"
   ]
  },
  {
   "cell_type": "markdown",
   "metadata": {},
   "source": [
    "## Test Cross validation"
   ]
  },
  {
   "cell_type": "code",
   "execution_count": 7,
   "metadata": {
    "collapsed": false
   },
   "outputs": [
    {
     "data": {
      "text/plain": [
       "8"
      ]
     },
     "execution_count": 7,
     "metadata": {},
     "output_type": "execute_result"
    }
   ],
   "source": [
    "Threads.nthreads()"
   ]
  },
  {
   "cell_type": "code",
   "execution_count": 8,
   "metadata": {
    "collapsed": false
   },
   "outputs": [
    {
     "name": "stdout",
     "output_type": "stream",
     "text": [
      "****                   MendelIHT Version 1.4.1                  ****\n",
      "****     Benjamin Chu, Kevin Keys, Chris German, Hua Zhou       ****\n",
      "****   Jin Zhou, Eric Sobel, Janet Sinsheimer, Kenneth Lange    ****\n",
      "****                                                            ****\n",
      "****                 Please cite our paper!                     ****\n",
      "****         https://doi.org/10.1093/gigascience/giaa044        ****\n",
      "\n"
     ]
    },
    {
     "name": "stderr",
     "output_type": "stream",
     "text": [
      "\u001b[32mCross validating...100%|████████████████████████████████| Time: 0:00:06\u001b[39m\n"
     ]
    },
    {
     "name": "stdout",
     "output_type": "stream",
     "text": [
      "\n",
      "\n",
      "Crossvalidation Results:\n",
      "\tk\tMSE\n",
      "\t0\t3046.1068850324336\n",
      "\t1\t2014.9680141393687\n",
      "\t2\t1153.520612853073\n",
      "\t3\t527.4303875427266\n",
      "\t4\t421.56539803705937\n",
      "\t5\t334.607065931551\n",
      "\t6\t267.76045903864633\n",
      "\t7\t231.18007562734212\n",
      "\t8\t218.7115381296477\n",
      "\t9\t219.93024184511523\n",
      "\t10\t212.56326397610883\n",
      "\t11\t216.42591815912317\n",
      "\t12\t218.52008060795322\n",
      "\t13\t225.76746161959892\n",
      "\t14\t231.14431195338898\n",
      "\t15\t234.36915696941708\n",
      "\t16\t233.17497749362144\n",
      "\t17\t240.68670944533042\n",
      "\t18\t248.3512559330554\n",
      "\t19\t245.9563361500128\n",
      "\t20\t246.6022429280416\n",
      "\n",
      "Best k = 10\n",
      "\n",
      "  7.188606 seconds (35.71 M allocations: 7.338 GiB, 24.04% gc time)\n"
     ]
    }
   ],
   "source": [
    "Random.seed!(2020)\n",
    "@time mses = cv_iht(y, xla, z, path=0:20, init_beta=true);"
   ]
  },
  {
   "cell_type": "markdown",
   "metadata": {
    "collapsed": true
   },
   "source": [
    "# Logistic (binary) traits"
   ]
  },
  {
   "cell_type": "code",
   "execution_count": 25,
   "metadata": {
    "collapsed": true
   },
   "outputs": [],
   "source": [
    "n = 1000  # number of samples\n",
    "p = 10000 # number of SNPs\n",
    "q = 3     # number of non-genetic covariates\n",
    "k = 10    # number of causal SNPs per trait\n",
    "d = Bernoulli\n",
    "l = canonicallink(d())\n",
    "\n",
    "# set random seed for reproducibility\n",
    "Random.seed!(2021)\n",
    "\n",
    "# simulate `.bed` file with no missing data\n",
    "x = simulate_random_snparray(undef, n, p)\n",
    "xla = SnpLinAlg{Float64}(x, model=ADDITIVE_MODEL, center=true, scale=true) \n",
    "\n",
    "# nongenetic covarites, 1st column is intercept\n",
    "z = randn(n, q)\n",
    "z[:, 1] .= 1\n",
    "c = randn(q)\n",
    "\n",
    "# simulate response y, true model b, and the correct non-0 positions of b\n",
    "y, true_b, correct_position = simulate_random_response(xla, k, d, l, Zu=z*c);"
   ]
  },
  {
   "cell_type": "code",
   "execution_count": 26,
   "metadata": {
    "collapsed": false,
    "scrolled": true
   },
   "outputs": [
    {
     "name": "stdout",
     "output_type": "stream",
     "text": [
      "****                   MendelIHT Version 1.4.1                  ****\n",
      "****     Benjamin Chu, Kevin Keys, Chris German, Hua Zhou       ****\n",
      "****   Jin Zhou, Eric Sobel, Janet Sinsheimer, Kenneth Lange    ****\n",
      "****                                                            ****\n",
      "****                 Please cite our paper!                     ****\n",
      "****         https://doi.org/10.1093/gigascience/giaa044        ****\n",
      "\n",
      "Running sparse logistic regression\n",
      "Number of threads = 8\n",
      "Link functin = LogitLink()\n",
      "Sparsity parameter (k) = 10\n",
      "Prior weight scaling = off\n",
      "Doubly sparse projection = off\n",
      "Debias = off\n",
      "Max IHT iterations = 1000\n",
      "Converging when tol < 0.0001 and iteration ≥ 5:\n",
      "\n",
      "Iteration 1: loglikelihood = -395.77014413725806, backtracks = 0, tol = 0.5303310300461843\n",
      "Iteration 2: loglikelihood = -346.3417924804989, backtracks = 0, tol = 0.29597732231115287\n",
      "Iteration 3: loglikelihood = -326.09265897099965, backtracks = 0, tol = 0.26341642913501495\n",
      "Iteration 4: loglikelihood = -320.75740042076006, backtracks = 0, tol = 0.20018197099630855\n",
      "Iteration 5: loglikelihood = -316.7539463187656, backtracks = 0, tol = 0.19029896307061697\n",
      "Iteration 6: loglikelihood = -315.40437843521266, backtracks = 1, tol = 0.022327441608785404\n",
      "Iteration 7: loglikelihood = -314.7567800816027, backtracks = 2, tol = 0.013175720795655016\n",
      "Iteration 8: loglikelihood = -314.40067185287734, backtracks = 3, tol = 0.007853420243270988\n",
      "Iteration 9: loglikelihood = -314.10611274239784, backtracks = 3, tol = 0.007358484783868825\n",
      "Iteration 10: loglikelihood = -313.8699078756278, backtracks = 3, tol = 0.006771534573371636\n",
      "Iteration 11: loglikelihood = -313.6827957680445, backtracks = 3, tol = 0.006130778191762448\n",
      "Iteration 12: loglikelihood = -313.53545791921914, backtracks = 3, tol = 0.005498228488007286\n",
      "Iteration 13: loglikelihood = -313.4198832289537, backtracks = 3, tol = 0.004909795033684663\n",
      "Iteration 14: loglikelihood = -313.3294901368055, backtracks = 3, tol = 0.004381121740939437\n",
      "Iteration 15: loglikelihood = -313.2589665785989, backtracks = 3, tol = 0.003895489922605362\n",
      "Iteration 16: loglikelihood = -313.2040638910332, backtracks = 3, tol = 0.003454716963952091\n",
      "Iteration 17: loglikelihood = -313.16140408776647, backtracks = 3, tol = 0.0030577558827093866\n",
      "Iteration 18: loglikelihood = -313.1283137884559, backtracks = 3, tol = 0.002702149181323474\n",
      "Iteration 19: loglikelihood = -313.10268547323363, backtracks = 3, tol = 0.002384810925477528\n",
      "Iteration 20: loglikelihood = -313.0828633647061, backtracks = 3, tol = 0.0021024485492860054\n",
      "Iteration 21: loglikelihood = -313.06755052051057, backtracks = 3, tol = 0.0018517883910968058\n",
      "Iteration 22: loglikelihood = -313.05573378975816, backtracks = 3, tol = 0.0016296937987857847\n",
      "Iteration 23: loglikelihood = -313.0466235990548, backtracks = 3, tol = 0.001433224111563226\n",
      "Iteration 24: loglikelihood = -313.0396059141759, backtracks = 3, tol = 0.001259660768183166\n",
      "Iteration 25: loglikelihood = -313.0342041075455, backtracks = 3, tol = 0.0011065148729601868\n",
      "Iteration 26: loglikelihood = -313.03004882232716, backtracks = 3, tol = 0.0009715241612243385\n",
      "Iteration 27: loglikelihood = -313.0268542485522, backtracks = 3, tol = 0.0008526438831652432\n",
      "Iteration 28: loglikelihood = -313.02439951067737, backtracks = 3, tol = 0.0007480342716080388\n",
      "Iteration 29: loglikelihood = -313.0225141090993, backtracks = 3, tol = 0.0006560462294485137\n",
      "Iteration 30: loglikelihood = -313.0210665626331, backtracks = 3, tol = 0.0005752062763843058\n",
      "Iteration 31: loglikelihood = -313.0199555686808, backtracks = 3, tol = 0.0005042014312168337\n",
      "Iteration 32: loglikelihood = -313.01910313695004, backtracks = 3, tol = 0.000441864472191807\n",
      "Iteration 33: loglikelihood = -313.0184492656348, backtracks = 3, tol = 0.0003871598602025497\n",
      "Iteration 34: loglikelihood = -313.01794782001235, backtracks = 3, tol = 0.0003391704997852685\n",
      "Iteration 35: loglikelihood = -313.0175633462547, backtracks = 3, tol = 0.00029708543484781953\n",
      "Iteration 36: loglikelihood = -313.0172686112086, backtracks = 3, tol = 0.00026018852050755254\n",
      "Iteration 37: loglikelihood = -313.01704270474164, backtracks = 3, tol = 0.0002278480731891781\n",
      "Iteration 38: loglikelihood = -313.01686957735086, backtracks = 3, tol = 0.00019950747401636316\n",
      "Iteration 39: loglikelihood = -313.01673691413356, backtracks = 3, tol = 0.00017467668247120695\n",
      "Iteration 40: loglikelihood = -313.01663526834585, backtracks = 3, tol = 0.00015292460597413998\n",
      "Iteration 41: loglikelihood = -313.01655739514143, backtracks = 3, tol = 0.0001338722646990945\n",
      "Iteration 42: loglikelihood = -313.0164977395014, backtracks = 3, tol = 0.00011718668821769732\n",
      "Iteration 43: loglikelihood = -313.0164520428757, backtracks = 3, tol = 0.00010257548043171457\n",
      "Iteration 44: loglikelihood = -313.01641704112535, backtracks = 3, tol = 8.978199090393757e-5\n",
      "  0.275917 seconds (2.03 M allocations: 44.658 MiB, 7.66% gc time)\n"
     ]
    },
    {
     "data": {
      "text/plain": [
       "\n",
       "IHT estimated 10 nonzero SNP predictors and 3 non-genetic predictors.\n",
       "\n",
       "Compute time (sec):     0.26929783821105957\n",
       "Final loglikelihood:    -313.01641704112535\n",
       "SNP PVE:                0.5791181046176805\n",
       "Iterations:             44\n",
       "\n",
       "Selected genetic predictors:\n",
       "\u001b[1m10×2 DataFrame\u001b[0m\n",
       "\u001b[1m Row \u001b[0m│\u001b[1m Position \u001b[0m\u001b[1m Estimated_β \u001b[0m\n",
       "\u001b[1m     \u001b[0m│\u001b[90m Int64    \u001b[0m\u001b[90m Float64     \u001b[0m\n",
       "─────┼───────────────────────\n",
       "   1 │      181    -0.889481\n",
       "   2 │     1007     1.00471\n",
       "   3 │     2417     0.891502\n",
       "   4 │     3242    -0.641796\n",
       "   5 │     3264    -0.925003\n",
       "   6 │     3488    -1.61155\n",
       "   7 │     6083    -0.84155\n",
       "   8 │     6934     1.63939\n",
       "   9 │     7118    -1.06178\n",
       "  10 │     8119    -0.406123\n",
       "\n",
       "Selected nongenetic predictors:\n",
       "\u001b[1m3×2 DataFrame\u001b[0m\n",
       "\u001b[1m Row \u001b[0m│\u001b[1m Position \u001b[0m\u001b[1m Estimated_β \u001b[0m\n",
       "\u001b[1m     \u001b[0m│\u001b[90m Int64    \u001b[0m\u001b[90m Float64     \u001b[0m\n",
       "─────┼───────────────────────\n",
       "   1 │        1    -0.521723\n",
       "   2 │        2     0.453126\n",
       "   3 │        3    -1.63495"
      ]
     },
     "execution_count": 26,
     "metadata": {},
     "output_type": "execute_result"
    }
   ],
   "source": [
    "@time result = fit_iht(y, xla, z, k=10, d=d(), l=l, init_beta=false, max_iter=1000)"
   ]
  },
  {
   "cell_type": "markdown",
   "metadata": {},
   "source": [
    "## chech answers"
   ]
  },
  {
   "cell_type": "code",
   "execution_count": 27,
   "metadata": {
    "collapsed": false
   },
   "outputs": [
    {
     "data": {
      "text/plain": [
       "10×2 Matrix{Float64}:\n",
       " -0.852107  -0.889481\n",
       " -0.388558   0.0\n",
       "  0.989745   1.00471\n",
       "  0.647143   0.891502\n",
       " -0.616519  -0.641796\n",
       " -0.992854  -0.925003\n",
       " -1.59093   -1.61155\n",
       " -0.725757  -0.84155\n",
       "  1.5154     1.63939\n",
       " -1.15028   -1.06178"
      ]
     },
     "execution_count": 27,
     "metadata": {},
     "output_type": "execute_result"
    }
   ],
   "source": [
    "[true_b[correct_position] result.beta[correct_position]]"
   ]
  },
  {
   "cell_type": "code",
   "execution_count": 28,
   "metadata": {
    "collapsed": false
   },
   "outputs": [
    {
     "data": {
      "text/plain": [
       "3×2 Matrix{Float64}:\n",
       " -0.521723  -0.550508\n",
       "  0.453126   0.38738\n",
       " -1.63495   -1.61836"
      ]
     },
     "execution_count": 28,
     "metadata": {},
     "output_type": "execute_result"
    }
   ],
   "source": [
    "# non genetic covariates\n",
    "[result.c c]"
   ]
  },
  {
   "cell_type": "code",
   "execution_count": null,
   "metadata": {
    "collapsed": true
   },
   "outputs": [],
   "source": []
  }
 ],
 "metadata": {
  "@webio": {
   "lastCommId": null,
   "lastKernelId": null
  },
  "kernelspec": {
   "display_name": "Julia 1.6.0",
   "language": "julia",
   "name": "julia-1.6"
  },
  "language_info": {
   "file_extension": ".jl",
   "mimetype": "application/julia",
   "name": "julia",
   "version": "1.6.0"
  }
 },
 "nbformat": 4,
 "nbformat_minor": 2
}
