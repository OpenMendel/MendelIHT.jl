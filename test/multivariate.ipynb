{
 "cells": [
  {
   "cell_type": "code",
   "execution_count": 1,
   "metadata": {
    "collapsed": false
   },
   "outputs": [
    {
     "name": "stderr",
     "output_type": "stream",
     "text": [
      "┌ Info: Precompiling MendelIHT [921c7187-1484-5754-b919-5d3ed9ac03c4]\n",
      "└ @ Base loading.jl:1317\n"
     ]
    }
   ],
   "source": [
    "using Revise\n",
    "using MendelIHT\n",
    "using SnpArrays\n",
    "using Random\n",
    "using GLM\n",
    "using DelimitedFiles\n",
    "using Test\n",
    "using Distributions\n",
    "using LinearAlgebra\n",
    "using CSV\n",
    "using DataFrames\n",
    "using StatsBase\n",
    "using TraitSimulation\n",
    "using BenchmarkTools\n",
    "BLAS.set_num_threads(1) # remember to set BLAS threads to 1 !!!"
   ]
  },
  {
   "cell_type": "markdown",
   "metadata": {},
   "source": [
    "# Simple multivariate Gaussian traits\n",
    "\n",
    "With $r$ traits, each sample's phenotype $\\mathbf{y}_{i} \\in \\mathbb{R}^{n \\times 1}$ is simulated under\n",
    "\n",
    "$$\\mathbf{y}_{i}^{r \\times 1} \\sim N(\\mathbf{B}^{r \\times p}\\mathbf{x}_{i}^{p \\times 1}, \\ \\ \\Sigma_{r \\times r})$$\n",
    "\n",
    "This model assumes each sample is independent."
   ]
  },
  {
   "cell_type": "code",
   "execution_count": 64,
   "metadata": {
    "collapsed": false
   },
   "outputs": [],
   "source": [
    "n = 1000  # number of samples\n",
    "p = 10000 # number of SNPs\n",
    "q = 100     # number of nongenetic covariates\n",
    "k = 10    # number of causal SNPs\n",
    "r = 2     # number of traits\n",
    "\n",
    "# set random seed for reproducibility\n",
    "Random.seed!(2021)\n",
    "\n",
    "# simulate `.bed` file with no missing data\n",
    "x = simulate_random_snparray(\"multivariate_$(r)traits.bed\", n, p)\n",
    "xla = SnpLinAlg{Float64}(x, model=ADDITIVE_MODEL, impute=false, center=true, scale=true) \n",
    "\n",
    "# nongenetic covariates; intercept is the 1st column\n",
    "z = randn(n, q)\n",
    "z[:, 1] .= 1\n",
    "c = randn(q, r)\n",
    "\n",
    "# simulate response y, true model b, and the correct non-0 positions of b\n",
    "Y, true_Σ, true_b, correct_position = simulate_random_response(xla, k, r, Zu=z*c, overlap=0);"
   ]
  },
  {
   "cell_type": "code",
   "execution_count": 3,
   "metadata": {
    "collapsed": false
   },
   "outputs": [],
   "source": [
    "# save true SNP's position and effect size\n",
    "open(\"multivariate_$(r)traits_true_beta.txt\", \"w\") do io\n",
    "    println(io, \"snpID,effectsize\")\n",
    "    for pos in correct_position\n",
    "        println(io, \"snp$pos,\", true_b[pos])\n",
    "    end\n",
    "end\n",
    "\n",
    "# create `.bim` and `.bam` files using phenotype\n",
    "make_bim_fam_files(x, Y, \"multivariate_$(r)traits\")\n",
    "\n",
    "# save phenotypes in separate file\n",
    "open(\"multivariate_$(r)traits.phen\", \"w\") do io\n",
    "    println(io, \"FID\\tIID\\tT1\\tT2\")\n",
    "    for i in 1:n\n",
    "        println(io, \"$i\\t1\\t\", Y[i, 1], \"\\t\", Y[i, 2])\n",
    "    end\n",
    "end"
   ]
  },
  {
   "cell_type": "markdown",
   "metadata": {},
   "source": [
    "## Run IHT"
   ]
  },
  {
   "cell_type": "code",
   "execution_count": 65,
   "metadata": {
    "collapsed": false,
    "scrolled": false
   },
   "outputs": [
    {
     "name": "stdout",
     "output_type": "stream",
     "text": [
      "****                   MendelIHT Version 1.4.1                  ****\n",
      "****     Benjamin Chu, Kevin Keys, Chris German, Hua Zhou       ****\n",
      "****   Jin Zhou, Eric Sobel, Janet Sinsheimer, Kenneth Lange    ****\n",
      "****                                                            ****\n",
      "****                 Please cite our paper!                     ****\n",
      "****         https://doi.org/10.1093/gigascience/giaa044        ****\n",
      "\n",
      "Initializing β to univariate regression values...\n",
      "...completed in 0.1 seconds.\n",
      "\n",
      "Running sparse Multivariate Gaussian regression\n",
      "Number of threads = 8\n",
      "Link functin = IdentityLink()\n",
      "Sparsity parameter (k) = 7\n",
      "Prior weight scaling = off\n",
      "Doubly sparse projection = off\n",
      "Debias = off\n",
      "Max IHT iterations = 200\n",
      "Converging when tol < 0.0001 and iteration ≥ 5:\n",
      "\n",
      "Iteration 1: loglikelihood = -3239.8589067406742, backtracks = 0, tol = 0.4427892095041617\n",
      "Iteration 2: loglikelihood = -2731.7061210910415, backtracks = 0, tol = 0.16754168717279966\n",
      "Iteration 3: loglikelihood = -2550.5673137871936, backtracks = 0, tol = 0.08497521487704386\n",
      "Iteration 4: loglikelihood = -2493.308225150741, backtracks = 0, tol = 0.05672386026896645\n",
      "Iteration 5: loglikelihood = -2472.2063058232607, backtracks = 0, tol = 0.03025540957033393\n",
      "Iteration 6: loglikelihood = -2427.9646561637373, backtracks = 1, tol = 0.01603943501824301\n",
      "Iteration 7: loglikelihood = -2425.2137788718246, backtracks = 0, tol = 0.005758176063966135\n",
      "Iteration 8: loglikelihood = -2423.7804023515546, backtracks = 0, tol = 0.005073242554428961\n",
      "Iteration 9: loglikelihood = -2422.59497728477, backtracks = 1, tol = 0.003004555587295677\n",
      "Iteration 10: loglikelihood = -2421.827693260786, backtracks = 0, tol = 0.003463378268843334\n",
      "Iteration 11: loglikelihood = -2421.74729790867, backtracks = 0, tol = 0.0037864134860692692\n",
      "Iteration 12: loglikelihood = -2420.977825207275, backtracks = 1, tol = 0.0028692956598098036\n",
      "Iteration 13: loglikelihood = -2420.7254086390817, backtracks = 1, tol = 0.001390182799841965\n",
      "Iteration 14: loglikelihood = -2420.5502915665074, backtracks = 0, tol = 0.001694452968771234\n",
      "Iteration 15: loglikelihood = -2420.418736599853, backtracks = 1, tol = 0.0010161088778250242\n",
      "Iteration 16: loglikelihood = -2420.3357831170388, backtracks = 0, tol = 0.0012043063670878484\n",
      "Iteration 17: loglikelihood = -2420.26473811716, backtracks = 1, tol = 0.000756007310558418\n",
      "Iteration 18: loglikelihood = -2420.2256698760343, backtracks = 0, tol = 0.0009018336806537366\n",
      "Iteration 19: loglikelihood = -2420.186323807896, backtracks = 1, tol = 0.0005689384700532531\n",
      "Iteration 20: loglikelihood = -2420.1681219967686, backtracks = 0, tol = 0.0006759777385461319\n",
      "Iteration 21: loglikelihood = -2420.145878241366, backtracks = 1, tol = 0.0004317806394929476\n",
      "Iteration 22: loglikelihood = -2420.1375671478054, backtracks = 0, tol = 0.0005073865472343943\n",
      "Iteration 23: loglikelihood = -2420.1247720917813, backtracks = 1, tol = 0.00032989135676668137\n",
      "Iteration 24: loglikelihood = -2420.1211100661953, backtracks = 0, tol = 0.0003815084170408862\n",
      "Iteration 25: loglikelihood = -2420.1136407148406, backtracks = 1, tol = 0.00025343837132248506\n",
      "Iteration 26: loglikelihood = -2420.1121282388976, backtracks = 0, tol = 0.00028744236541942676\n",
      "Iteration 27: loglikelihood = -2420.1077126976606, backtracks = 1, tol = 0.00019560515660170164\n",
      "Iteration 28: loglikelihood = -2420.1071655416054, backtracks = 0, tol = 0.00021705518117825666\n",
      "Iteration 29: loglikelihood = -2420.104527196402, backtracks = 1, tol = 0.00015156139217107175\n",
      "Iteration 30: loglikelihood = -2420.104391807603, backtracks = 0, tol = 0.0001642956680566473\n",
      "Iteration 31: loglikelihood = -2420.102800978058, backtracks = 1, tol = 0.00011837828941596617\n",
      "Iteration 32: loglikelihood = -2420.1022538427105, backtracks = 1, tol = 6.334305129653613e-5\n",
      "  0.391157 seconds (64.54 k allocations: 166.231 MiB)\n"
     ]
    },
    {
     "data": {
      "text/plain": [
       "\n",
       "Compute time (sec):     0.3265831470489502\n",
       "Final loglikelihood:    -2420.1022538427105\n",
       "Iterations:             32\n",
       "Trait 1's SNP PVE:      0.951081145560398\n",
       "Trait 2's SNP PVE:      0.949788317267863\n",
       "\n",
       "Estimated trait covariance:\n",
       "\u001b[1m2×2 DataFrame\u001b[0m\n",
       "\u001b[1m Row \u001b[0m│\u001b[1m trait1  \u001b[0m\u001b[1m trait2  \u001b[0m\n",
       "\u001b[1m     \u001b[0m│\u001b[90m Float64 \u001b[0m\u001b[90m Float64 \u001b[0m\n",
       "─────┼──────────────────\n",
       "   1 │ 5.79457  3.63796\n",
       "   2 │ 3.63796  5.23835\n",
       "\n",
       "Trait 1: IHT estimated 4 nonzero SNP predictors\n",
       "\u001b[1m4×2 DataFrame\u001b[0m\n",
       "\u001b[1m Row \u001b[0m│\u001b[1m Position \u001b[0m\u001b[1m Estimated_β \u001b[0m\n",
       "\u001b[1m     \u001b[0m│\u001b[90m Int64    \u001b[0m\u001b[90m Float64     \u001b[0m\n",
       "─────┼───────────────────────\n",
       "   1 │      261    -0.623136\n",
       "   2 │     2577     0.499328\n",
       "   3 │     4767    -2.06477\n",
       "   4 │     7654     1.0611\n",
       "\n",
       "Trait 1: IHT estimated 100 non-genetic predictors\n",
       "\u001b[1m100×2 DataFrame\u001b[0m\n",
       "\u001b[1m Row \u001b[0m│\u001b[1m Position \u001b[0m\u001b[1m Estimated_β \u001b[0m\n",
       "\u001b[1m     \u001b[0m│\u001b[90m Int64    \u001b[0m\u001b[90m Float64     \u001b[0m\n",
       "─────┼───────────────────────\n",
       "   1 │        1   1.98407\n",
       "   2 │        2   0.204885\n",
       "   3 │        3   0.778876\n",
       "   4 │        4  -0.448998\n",
       "   5 │        5   1.04494\n",
       "   6 │        6   1.62274\n",
       "   7 │        7  -1.47625\n",
       "   8 │        8   0.550586\n",
       "   9 │        9  -0.952757\n",
       "  10 │       10  -1.03214\n",
       "  11 │       11   0.665595\n",
       "  ⋮  │    ⋮           ⋮\n",
       "  91 │       91  -2.08925\n",
       "  92 │       92   0.0335797\n",
       "  93 │       93  -0.277294\n",
       "  94 │       94   0.722251\n",
       "  95 │       95   1.41426\n",
       "  96 │       96  -1.48869\n",
       "  97 │       97   0.130512\n",
       "  98 │       98  -0.435264\n",
       "  99 │       99   0.739788\n",
       " 100 │      100   1.94191\n",
       "\u001b[36m              79 rows omitted\u001b[0m\n",
       "\n",
       "Trait 2: IHT estimated 3 nonzero SNP predictors\n",
       "\u001b[1m3×2 DataFrame\u001b[0m\n",
       "\u001b[1m Row \u001b[0m│\u001b[1m Position \u001b[0m\u001b[1m Estimated_β \u001b[0m\n",
       "\u001b[1m     \u001b[0m│\u001b[90m Int64    \u001b[0m\u001b[90m Float64     \u001b[0m\n",
       "─────┼───────────────────────\n",
       "   1 │      540     0.522538\n",
       "   2 │     4545    -1.22943\n",
       "   3 │     8340     0.215909\n",
       "\n",
       "Trait 2: IHT estimated 100 non-genetic predictors\n",
       "\u001b[1m100×2 DataFrame\u001b[0m\n",
       "\u001b[1m Row \u001b[0m│\u001b[1m Position \u001b[0m\u001b[1m Estimated_β \u001b[0m\n",
       "\u001b[1m     \u001b[0m│\u001b[90m Int64    \u001b[0m\u001b[90m Float64     \u001b[0m\n",
       "─────┼───────────────────────\n",
       "   1 │        1   -1.21446\n",
       "   2 │        2   -0.604014\n",
       "   3 │        3    0.0585358\n",
       "   4 │        4    0.0868805\n",
       "   5 │        5   -1.5798\n",
       "   6 │        6   -0.464744\n",
       "   7 │        7   -1.52217\n",
       "   8 │        8    0.281903\n",
       "   9 │        9   -0.360509\n",
       "  10 │       10   -0.481412\n",
       "  11 │       11    0.111335\n",
       "  ⋮  │    ⋮           ⋮\n",
       "  91 │       91   -0.703698\n",
       "  92 │       92    1.39321\n",
       "  93 │       93    0.321649\n",
       "  94 │       94   -0.665116\n",
       "  95 │       95   -1.38466\n",
       "  96 │       96    0.381183\n",
       "  97 │       97    0.892373\n",
       "  98 │       98    1.00259\n",
       "  99 │       99    0.395847\n",
       " 100 │      100   -0.421653\n",
       "\u001b[36m              79 rows omitted\u001b[0m\n"
      ]
     },
     "execution_count": 65,
     "metadata": {},
     "output_type": "execute_result"
    }
   ],
   "source": [
    "Yt = Matrix(Y')\n",
    "Zt = Matrix(z')\n",
    "@time result = fit_iht(Yt, Transpose(xla), Zt, k=7, init_beta=true)"
   ]
  },
  {
   "cell_type": "markdown",
   "metadata": {},
   "source": [
    "## Check answer"
   ]
  },
  {
   "cell_type": "code",
   "execution_count": 66,
   "metadata": {
    "collapsed": false
   },
   "outputs": [
    {
     "data": {
      "text/plain": [
       "6×2 Matrix{Float64}:\n",
       " -0.623136  -0.606503\n",
       "  0.0       -0.0973917\n",
       "  0.499328   0.584764\n",
       " -2.06477   -2.13538\n",
       "  1.0611     1.0853\n",
       "  0.0       -0.242309"
      ]
     },
     "execution_count": 66,
     "metadata": {},
     "output_type": "execute_result"
    }
   ],
   "source": [
    "# first beta\n",
    "β1 = result.beta[1, :]\n",
    "true_b1_idx = findall(!iszero, true_b[:, 1])\n",
    "[β1[true_b1_idx] true_b[true_b1_idx, 1]]"
   ]
  },
  {
   "cell_type": "code",
   "execution_count": 67,
   "metadata": {
    "collapsed": false
   },
   "outputs": [
    {
     "data": {
      "text/plain": [
       "4×2 Matrix{Float64}:\n",
       "  0.522538   0.592383\n",
       "  0.0        0.363792\n",
       " -1.22943   -1.2704\n",
       "  0.0       -0.10426"
      ]
     },
     "execution_count": 67,
     "metadata": {},
     "output_type": "execute_result"
    }
   ],
   "source": [
    "# second beta\n",
    "β2 = result.beta[2, :]\n",
    "true_b2_idx = findall(!iszero, true_b[:, 2])\n",
    "[β2[true_b2_idx] true_b[true_b2_idx, 2]]"
   ]
  },
  {
   "cell_type": "code",
   "execution_count": 68,
   "metadata": {
    "collapsed": false
   },
   "outputs": [
    {
     "data": {
      "text/plain": [
       "200×2 Matrix{Float64}:\n",
       "  1.98407     2.04426\n",
       " -1.21446    -1.1548\n",
       "  0.204885    0.411928\n",
       " -0.604014   -0.471283\n",
       "  0.778876    0.873763\n",
       "  0.0585358   0.110743\n",
       " -0.448998   -0.438718\n",
       "  0.0868805   0.133405\n",
       "  1.04494     1.14307\n",
       " -1.5798     -1.50455\n",
       "  1.62274     1.57622\n",
       " -0.464744   -0.535578\n",
       " -1.47625    -1.43399\n",
       "  ⋮          \n",
       "  1.41426     1.35095\n",
       " -1.38466    -1.50165\n",
       " -1.48869    -1.47478\n",
       "  0.381183    0.446708\n",
       "  0.130512    0.0020513\n",
       "  0.892373    0.786244\n",
       " -0.435264   -0.463497\n",
       "  1.00259     0.966965\n",
       "  0.739788    0.797359\n",
       "  0.395847    0.310934\n",
       "  1.94191     1.93984\n",
       " -0.421653   -0.359157"
      ]
     },
     "execution_count": 68,
     "metadata": {},
     "output_type": "execute_result"
    }
   ],
   "source": [
    "# non genetic covariates\n",
    "[vec(result.c) vec(c')]"
   ]
  },
  {
   "cell_type": "code",
   "execution_count": 69,
   "metadata": {
    "collapsed": false
   },
   "outputs": [
    {
     "data": {
      "text/plain": [
       "4×2 Matrix{Float64}:\n",
       " 5.79457  6.2004\n",
       " 3.63796  4.0208\n",
       " 3.63796  4.0208\n",
       " 5.23835  5.67545"
      ]
     },
     "execution_count": 69,
     "metadata": {},
     "output_type": "execute_result"
    }
   ],
   "source": [
    "# covariance matrix\n",
    "[vec(result.Σ) vec(true_Σ)]"
   ]
  },
  {
   "cell_type": "code",
   "execution_count": 70,
   "metadata": {
    "collapsed": false
   },
   "outputs": [
    {
     "data": {
      "text/plain": [
       "6-element Vector{Int64}:\n",
       "  261\n",
       " 2577\n",
       " 4767\n",
       " 7654\n",
       "  540\n",
       " 4545"
      ]
     },
     "execution_count": 70,
     "metadata": {},
     "output_type": "execute_result"
    }
   ],
   "source": [
    "# number of causal SNPs recovered\n",
    "correct_snps = [x[1] for x in correct_position]             # truely causal snps\n",
    "signif_snps = findall(!iszero, β1) ∪ findall(!iszero, β2)   # IHT's selected snps\n",
    "signif_snps ∩ correct_snps"
   ]
  },
  {
   "cell_type": "markdown",
   "metadata": {},
   "source": [
    "## Test Cross validation"
   ]
  },
  {
   "cell_type": "code",
   "execution_count": 45,
   "metadata": {
    "collapsed": false
   },
   "outputs": [
    {
     "data": {
      "text/plain": [
       "8"
      ]
     },
     "execution_count": 45,
     "metadata": {},
     "output_type": "execute_result"
    }
   ],
   "source": [
    "Threads.nthreads()"
   ]
  },
  {
   "cell_type": "code",
   "execution_count": 46,
   "metadata": {
    "collapsed": false
   },
   "outputs": [
    {
     "name": "stdout",
     "output_type": "stream",
     "text": [
      "****                   MendelIHT Version 1.4.1                  ****\n",
      "****     Benjamin Chu, Kevin Keys, Chris German, Hua Zhou       ****\n",
      "****   Jin Zhou, Eric Sobel, Janet Sinsheimer, Kenneth Lange    ****\n",
      "****                                                            ****\n",
      "****                 Please cite our paper!                     ****\n",
      "****         https://doi.org/10.1093/gigascience/giaa044        ****\n",
      "\n"
     ]
    },
    {
     "name": "stderr",
     "output_type": "stream",
     "text": [
      "\u001b[32mCross validating...100%|████████████████████████████████| Time: 0:00:03\u001b[39m\n"
     ]
    },
    {
     "name": "stdout",
     "output_type": "stream",
     "text": [
      "\n",
      "\n",
      "Crossvalidation Results:\n",
      "\tk\tMSE\n",
      "\t0\t6469.203609848057\n",
      "\t1\t2880.5248080533443\n",
      "\t2\t2406.5255243578495\n",
      "\t3\t2330.6608973836264\n",
      "\t4\t2256.195685565707\n",
      "\t5\t2193.4425949268725\n",
      "\t6\t2144.320400354542\n",
      "\t7\t2088.9197304282193\n",
      "\t8\t2119.9961586628438\n",
      "\t9\t2137.165024214338\n",
      "\t10\t2156.800352576463\n",
      "\t11\t2171.843435468765\n",
      "\t12\t2202.541467918831\n",
      "\t13\t2213.3907734937015\n",
      "\t14\t2224.491848519913\n",
      "\t15\t2253.5509913201836\n",
      "\t16\t2256.1255203769924\n",
      "\t17\t2227.789366736381\n",
      "\t18\t2250.4551542593354\n",
      "\t19\t2273.8809156024035\n",
      "\t20\t2262.161085627236\n",
      "\n",
      "Best k = 7\n",
      "\n",
      "  4.630256 seconds (7.98 M allocations: 684.319 MiB, 2.77% gc time)\n"
     ]
    }
   ],
   "source": [
    "Random.seed!(2020)\n",
    "Yt = Matrix(Y')\n",
    "Zt = Matrix(z')\n",
    "@time mses = cv_iht(Yt, Transpose(xla), Zt, path=0:20, init_beta=false);"
   ]
  },
  {
   "cell_type": "code",
   "execution_count": 47,
   "metadata": {
    "collapsed": false
   },
   "outputs": [
    {
     "name": "stdout",
     "output_type": "stream",
     "text": [
      "****                   MendelIHT Version 1.4.1                  ****\n",
      "****     Benjamin Chu, Kevin Keys, Chris German, Hua Zhou       ****\n",
      "****   Jin Zhou, Eric Sobel, Janet Sinsheimer, Kenneth Lange    ****\n",
      "****                                                            ****\n",
      "****                 Please cite our paper!                     ****\n",
      "****         https://doi.org/10.1093/gigascience/giaa044        ****\n",
      "\n"
     ]
    },
    {
     "name": "stderr",
     "output_type": "stream",
     "text": [
      "\u001b[32mCross validating...100%|████████████████████████████████| Time: 0:00:08\u001b[39m\n"
     ]
    },
    {
     "name": "stdout",
     "output_type": "stream",
     "text": [
      "\n",
      "\n",
      "Crossvalidation Results:\n",
      "\tk\tMSE\n",
      "\t0\t4834.866700030927\n",
      "\t1\t2880.521175990194\n",
      "\t2\t2406.5280839532666\n",
      "\t3\t2330.6616574229197\n",
      "\t4\t2256.197058928352\n",
      "\t5\t2193.453496654248\n",
      "\t6\t2144.325277416228\n",
      "\t7\t2088.9213366500476\n",
      "\t8\t2117.8833693852644\n",
      "\t9\t2128.4472613034945\n",
      "\t10\t2165.517781225008\n",
      "\t11\t2175.233272262217\n",
      "\t12\t2182.878605121384\n",
      "\t13\t2204.344947281428\n",
      "\t14\t2213.0563673176975\n",
      "\t15\t2230.0505108855705\n",
      "\t16\t2236.201538232794\n",
      "\t17\t2250.1174700466236\n",
      "\t18\t2263.987299591203\n",
      "\t19\t2301.466032165297\n",
      "\t20\t2302.024784259434\n",
      "\n",
      "Best k = 7\n",
      "\n",
      "  8.495308 seconds (6.37 M allocations: 13.192 GiB, 29.06% gc time)\n"
     ]
    }
   ],
   "source": [
    "Random.seed!(2020)\n",
    "Yt = Matrix(Y')\n",
    "Zt = Matrix(z')\n",
    "@time mses = cv_iht(Yt, Transpose(xla), Zt, path=0:20, init_beta=true);"
   ]
  },
  {
   "cell_type": "markdown",
   "metadata": {},
   "source": [
    "# GEMMA multivariate results"
   ]
  },
  {
   "cell_type": "code",
   "execution_count": 84,
   "metadata": {
    "collapsed": false
   },
   "outputs": [
    {
     "data": {
      "text/plain": [
       "6-element Array{Int64,1}:\n",
       " 2110\n",
       " 5375\n",
       " 5797\n",
       " 6015\n",
       " 6813\n",
       " 8087"
      ]
     },
     "execution_count": 84,
     "metadata": {},
     "output_type": "execute_result"
    }
   ],
   "source": [
    "gemma_df = CSV.read(\"gemma.result.assoc.txt\", DataFrame)\n",
    "\n",
    "# pvalues\n",
    "pval_wald = gemma_df[!, :p_wald]\n",
    "pval_lrt = gemma_df[!, :p_lrt]\n",
    "pval_score = gemma_df[!, :p_score]\n",
    "\n",
    "# estimated beta\n",
    "estim_β1 = gemma_df[!, :beta_1]\n",
    "estim_β2 = gemma_df[!, :beta_2]\n",
    "\n",
    "# estimated covariance matrix\n",
    "estim_σ11 = gemma_df[!, :Vbeta_1_1]\n",
    "estim_σ12 = gemma_df[!, :Vbeta_1_2]\n",
    "estim_σ22 = gemma_df[!, :Vbeta_2_2];\n",
    "\n",
    "correct_snps = [x[1] for x in correct_position]  # truely causal snps\n",
    "signif_snps = findall(x -> x ≤ 0.05/p, pval_lrt) # gemma's selected snps\n",
    "signif_snps ∩ correct_snps"
   ]
  },
  {
   "cell_type": "markdown",
   "metadata": {},
   "source": [
    "**Conclusion:** GEMMA finds 6/10 causal SNPs"
   ]
  },
  {
   "cell_type": "markdown",
   "metadata": {},
   "source": [
    "# MV-PLINK"
   ]
  },
  {
   "cell_type": "code",
   "execution_count": 25,
   "metadata": {
    "collapsed": false
   },
   "outputs": [
    {
     "data": {
      "text/plain": [
       "6-element Array{Int64,1}:\n",
       " 2110\n",
       " 5375\n",
       " 5797\n",
       " 6015\n",
       " 6813\n",
       " 8087"
      ]
     },
     "execution_count": 25,
     "metadata": {},
     "output_type": "execute_result"
    }
   ],
   "source": [
    "mvplink_df = CSV.read(\"plink.mqfam.total\", DataFrame, delim=' ', ignorerepeated=true)\n",
    "\n",
    "# pvalues\n",
    "pval = mvplink_df[!, :P]\n",
    "\n",
    "# SNPs passing threshold\n",
    "signif_snps = findall(x -> x ≤ 0.05 / p, pval)\n",
    "signif_snps ∩ correct_snps"
   ]
  },
  {
   "cell_type": "markdown",
   "metadata": {},
   "source": [
    "**Conclusion:** MV-PLINK finds 6/10 causal SNPs"
   ]
  },
  {
   "cell_type": "markdown",
   "metadata": {},
   "source": [
    "# More complicated simulations (multivariate traits)\n",
    "\n",
    "Let us simulate:\n",
    "+ Non-independent samples\n",
    "+ Polygenic traits where every SNP contributes to the phenotype, but $k$ SNPs have large effect\n",
    "\n",
    "For $r$ traits, our model is:\n",
    "\n",
    "$$\\mathbf{Y}_{r \\times n} \\sim \\text{MatrixNormal}(\\mathbf{B}_{r \\times p}\\mathbf{X}_{p \\times n}, \\ \\ \\Sigma_{r \\times r} , \\ \\ \\sigma_g^2\\Phi_{n \\times n} + \\sigma_e^2 \\mathbf{I}_{n \\times n})$$\n",
    "\n",
    "where\n",
    "+ $\\mathbf{X}_{p \\times n}$ contains *all* predictors (genetic + non-genetic)\n",
    "+ $\\mathbf{B}_{r \\times p}$ contains (true) regression coefficients. $k$ entries are non-zero\n",
    "+ $\\Sigma_{r \\times r}$ is the row (trait) covariance matrix\n",
    "+ $\\sigma_g^2\\Phi_{n \\times n} + \\sigma_e^2 \\mathbf{I}_{n \\times n}$ is the column (sample) covariance matrix\n",
    "+ $\\Phi$ is the GRM estimated from the genotypes\n",
    "+ $\\sigma_g^2 = 0.6$ and $\\sigma_e^2 = 0.4$ (thus heritability is 60%)"
   ]
  },
  {
   "cell_type": "code",
   "execution_count": null,
   "metadata": {
    "collapsed": true
   },
   "outputs": [],
   "source": [
    "n = 1000  # number of samples\n",
    "p = 10000 # number of SNPs\n",
    "k = 10    # number of causal SNPs\n",
    "r = 2     # number of traits\n",
    "\n",
    "# set random seed for reproducibility\n",
    "Random.seed!(111)\n",
    "\n",
    "# simulate `.bed` file with no missing data\n",
    "x = simulate_random_snparray(\"multivariate_$(r)traits.bed\", n, p)\n",
    "xla = SnpLinAlg{Float64}(x, model=ADDITIVE_MODEL, center=true, scale=true) \n",
    "\n",
    "# intercept is the only nongenetic covariate\n",
    "z = ones(n, 1)\n",
    "intercepts = [0.5 1.0] # each trait have different intercept\n",
    "\n",
    "# simulate β\n",
    "B = zeros(p, r)\n",
    "B[1:k] .= randn(k)\n",
    "shuffle!(B)\n",
    "\n",
    "# between trait covariance matrix\n",
    "Σ = random_covariance_matrix(r)\n",
    "\n",
    "# between sample covariance is identity + GRM (2 times because in SnpArrays grm is halved)\n",
    "Φ = 2grm(x)\n",
    "σg = 0.6\n",
    "σe = 0.4\n",
    "V = σg * Φ + σe * I\n",
    "\n",
    "# simulate y using TraitSimulations.jl (https://github.com/OpenMendel/TraitSimulation.jl/blob/master/src/modelframework.jl#L137)\n",
    "vc = @vc Σ ⊗ V\n",
    "μ = zeros(n, r)\n",
    "μ_null = zeros(n, r)\n",
    "LinearAlgebra.mul!(μ_null, z, intercepts)\n",
    "mul!(μ, xla, B)\n",
    "BLAS.axpby!(1.0, μ_null, 1.0, μ)\n",
    "VCM_model = VCMTrait(z, intercepts, xla, B, vc, μ)\n",
    "Y = Matrix(Transpose(simulate(VCM_model)))\n",
    "\n",
    "# simulate using naive model\n",
    "# μ = z * intercepts + xla * B\n",
    "# Yt = rand(MatrixNormal(μ', Σ, V))"
   ]
  },
  {
   "cell_type": "code",
   "execution_count": 42,
   "metadata": {
    "collapsed": false
   },
   "outputs": [],
   "source": [
    "# create `.bim` and `.bam` files using phenotype\n",
    "make_bim_fam_files(x, Transpose(Yt), \"multivariate_$(r)traits\")\n",
    "\n",
    "# save phenotypes in separate file\n",
    "open(\"multivariate_$(r)traits.phen\", \"w\") do io\n",
    "    println(io, \"FID\\tIID\\tT1\\tT2\")\n",
    "    for i in 1:n\n",
    "        println(io, \"$i\\t1\\t\", Yt[1, i], \"\\t\", Yt[2, i])\n",
    "    end\n",
    "end"
   ]
  },
  {
   "cell_type": "markdown",
   "metadata": {},
   "source": [
    "## Run IHT "
   ]
  },
  {
   "cell_type": "code",
   "execution_count": 14,
   "metadata": {
    "collapsed": false,
    "scrolled": true
   },
   "outputs": [
    {
     "name": "stdout",
     "output_type": "stream",
     "text": [
      "****                   MendelIHT Version 1.4.0                  ****\n",
      "****     Benjamin Chu, Kevin Keys, Chris German, Hua Zhou       ****\n",
      "****   Jin Zhou, Eric Sobel, Janet Sinsheimer, Kenneth Lange    ****\n",
      "****                                                            ****\n",
      "****                 Please cite our paper!                     ****\n",
      "****         https://doi.org/10.1093/gigascience/giaa044        ****\n",
      "\n",
      "Running sparse Multivariate Gaussian regression\n",
      "Link functin = IdentityLink()\n",
      "Sparsity parameter (k) = 18\n",
      "Prior weight scaling = off\n",
      "Doubly sparse projection = off\n",
      "Debias = off\n",
      "Max IHT iterations = 200\n",
      "Converging when tol < 0.0001:\n",
      "\n",
      "Iteration 1: loglikelihood = -157.43077016659845, backtracks = 0, tol = 0.2144494664199513\n",
      "Iteration 2: loglikelihood = 1649.4627458274367, backtracks = 0, tol = 0.029644152665055448\n",
      "Iteration 3: loglikelihood = 2306.900854511885, backtracks = 0, tol = 0.0048972266751546025\n",
      "Iteration 4: loglikelihood = 2420.707164168618, backtracks = 0, tol = 0.002739485547080393\n",
      "Iteration 5: loglikelihood = 2492.2529200496915, backtracks = 0, tol = 0.0024017373633363663\n",
      "Iteration 6: loglikelihood = 2556.457080041816, backtracks = 0, tol = 0.002096680567000625\n",
      "Iteration 7: loglikelihood = 2613.8756116809886, backtracks = 0, tol = 0.0018284767131309238\n",
      "Iteration 8: loglikelihood = 2664.5726519370764, backtracks = 0, tol = 0.009705903843236833\n",
      "Iteration 9: loglikelihood = 2894.5308935044777, backtracks = 0, tol = 0.0015278704959588573\n",
      "Iteration 10: loglikelihood = 2956.0866252489823, backtracks = 0, tol = 0.0013864941598210152\n",
      "Iteration 11: loglikelihood = 3008.7794543201762, backtracks = 0, tol = 0.001217693415872267\n",
      "Iteration 12: loglikelihood = 3055.201736844475, backtracks = 0, tol = 0.0010689705161692408\n",
      "Iteration 13: loglikelihood = 3095.713607451211, backtracks = 0, tol = 0.0009385425165818652\n",
      "Iteration 14: loglikelihood = 3130.709324216964, backtracks = 0, tol = 0.0008241654700202112\n",
      "Iteration 15: loglikelihood = 3160.655298867409, backtracks = 0, tol = 0.0007280242713960821\n",
      "Iteration 16: loglikelihood = 3186.062119676617, backtracks = 0, tol = 0.000661679976521112\n",
      "Iteration 17: loglikelihood = 3207.4551434308523, backtracks = 0, tol = 0.0006013060245497758\n",
      "Iteration 18: loglikelihood = 3225.3499294779367, backtracks = 0, tol = 0.0005463637563333297\n",
      "Iteration 19: loglikelihood = 3240.2339252271495, backtracks = 0, tol = 0.0004963627099999031\n",
      "Iteration 20: loglikelihood = 3252.55444559445, backtracks = 0, tol = 0.00045085741399242675\n",
      "Iteration 21: loglikelihood = 3262.712186868501, backtracks = 0, tol = 0.00040944378575837645\n",
      "Iteration 22: loglikelihood = 3271.0591211313567, backtracks = 0, tol = 0.00037175545324860286\n",
      "Iteration 23: loglikelihood = 3277.8995401145603, backtracks = 0, tol = 0.00033746019106815396\n",
      "Iteration 24: loglikelihood = 3283.493139174072, backtracks = 0, tol = 0.00030625657604297626\n",
      "Iteration 25: loglikelihood = 3288.059247023013, backtracks = 0, tol = 0.0014042443511405212\n",
      "Iteration 26: loglikelihood = 3311.3932363703007, backtracks = 0, tol = 0.000237797218940829\n",
      "Iteration 27: loglikelihood = 3313.7785689902885, backtracks = 0, tol = 0.00021464615170063985\n",
      "Iteration 28: loglikelihood = 3315.7004128396793, backtracks = 0, tol = 0.0001930391277774851\n",
      "Iteration 29: loglikelihood = 3317.2464242531914, backtracks = 0, tol = 0.00017330326438236147\n",
      "Iteration 30: loglikelihood = 3318.4895637179425, backtracks = 0, tol = 0.00015559834411985602\n",
      "Iteration 31: loglikelihood = 3319.488830687003, backtracks = 0, tol = 0.0012484978208463808\n",
      "Iteration 32: loglikelihood = 3328.0751488202236, backtracks = 0, tol = 0.00011244828250668675\n",
      "Iteration 33: loglikelihood = 3328.701278523941, backtracks = 0, tol = 0.0011713344188212745\n",
      "Iteration 34: loglikelihood = 3337.135413598977, backtracks = 0, tol = 8.488800470997298e-5\n",
      "  3.467499 seconds (7.23 k allocations: 7.341 MiB)\n"
     ]
    },
    {
     "data": {
      "text/plain": [
       "\n",
       "Compute time (sec):     3.3496580123901367\n",
       "Final loglikelihood:    3337.135413598977\n",
       "Iterations:             34\n",
       "Trait 1's SNP PVE:      0.40781437818627647\n",
       "Trait 2's SNP PVE:      0.9184458100359857\n",
       "\n",
       "Trait 1: IHT estimated 8 nonzero SNP predictors\n",
       "\u001b[1m8×2 DataFrame\u001b[0m\n",
       "\u001b[1m Row \u001b[0m│\u001b[1m Position \u001b[0m\u001b[1m Estimated_β \u001b[0m\n",
       "\u001b[1m     \u001b[0m│\u001b[90m Int64    \u001b[0m\u001b[90m Float64     \u001b[0m\n",
       "─────┼───────────────────────\n",
       "   1 │      394    0.0149745\n",
       "   2 │      653    0.0157326\n",
       "   3 │     1138    0.0181775\n",
       "   4 │     2529   -0.238531\n",
       "   5 │     2872    0.799547\n",
       "   6 │     4248   -1.41112\n",
       "   7 │     4457    0.0135361\n",
       "   8 │     8921    1.09215\n",
       "\n",
       "Trait 1: IHT estimated 1 non-genetic predictors\n",
       "\u001b[1m1×2 DataFrame\u001b[0m\n",
       "\u001b[1m Row \u001b[0m│\u001b[1m Position \u001b[0m\u001b[1m Estimated_β \u001b[0m\n",
       "\u001b[1m     \u001b[0m│\u001b[90m Int64    \u001b[0m\u001b[90m Float64     \u001b[0m\n",
       "─────┼───────────────────────\n",
       "   1 │        1     0.545089\n",
       "\n",
       "Trait 2: IHT estimated 8 nonzero SNP predictors\n",
       "\u001b[1m8×2 DataFrame\u001b[0m\n",
       "\u001b[1m Row \u001b[0m│\u001b[1m Position \u001b[0m\u001b[1m Estimated_β \u001b[0m\n",
       "\u001b[1m     \u001b[0m│\u001b[90m Int64    \u001b[0m\u001b[90m Float64     \u001b[0m\n",
       "─────┼───────────────────────\n",
       "   1 │     2192   -0.0141054\n",
       "   2 │     3750   -0.0137672\n",
       "   3 │     4710   -0.11437\n",
       "   4 │     6991   -2.70962\n",
       "   5 │     7295   -0.0138461\n",
       "   6 │     8921   -0.265224\n",
       "   7 │     8964    0.311396\n",
       "   8 │     9314    0.0137259\n",
       "\n",
       "Trait 2: IHT estimated 1 non-genetic predictors\n",
       "\u001b[1m1×2 DataFrame\u001b[0m\n",
       "\u001b[1m Row \u001b[0m│\u001b[1m Position \u001b[0m\u001b[1m Estimated_β \u001b[0m\n",
       "\u001b[1m     \u001b[0m│\u001b[90m Int64    \u001b[0m\u001b[90m Float64     \u001b[0m\n",
       "─────┼───────────────────────\n",
       "   1 │        1      10.0167\n"
      ]
     },
     "execution_count": 14,
     "metadata": {},
     "output_type": "execute_result"
    },
    {
     "name": "stdout",
     "output_type": "stream",
     "text": [
      "\n"
     ]
    }
   ],
   "source": [
    "Zt = Matrix(z')\n",
    "ktrue = k + count(!iszero, intercepts)\n",
    "@time result = fit_iht(Y, Transpose(xla), Zt, k=18, verbose=true)"
   ]
  },
  {
   "cell_type": "code",
   "execution_count": 15,
   "metadata": {
    "collapsed": false
   },
   "outputs": [
    {
     "data": {
      "text/plain": [
       "5×2 Array{Float64,2}:\n",
       " -0.238531  -0.413412\n",
       "  0.799547   0.811243\n",
       "  0.0        0.0244199\n",
       " -1.41112   -1.42827\n",
       "  1.09215    1.24969"
      ]
     },
     "execution_count": 15,
     "metadata": {},
     "output_type": "execute_result"
    }
   ],
   "source": [
    "# first beta\n",
    "β1 = result.beta[1, :]\n",
    "true_b1_idx = findall(!iszero, B[:, 1])\n",
    "[β1[true_b1_idx] B[true_b1_idx, 1]]"
   ]
  },
  {
   "cell_type": "code",
   "execution_count": 16,
   "metadata": {
    "collapsed": false
   },
   "outputs": [
    {
     "data": {
      "text/plain": [
       "5×2 Array{Float64,2}:\n",
       "  0.0       -0.0597678\n",
       " -0.11437   -0.11578\n",
       " -2.70962   -2.70844\n",
       " -0.265224  -0.212269\n",
       "  0.311396   0.310274"
      ]
     },
     "execution_count": 16,
     "metadata": {},
     "output_type": "execute_result"
    }
   ],
   "source": [
    "# second beta\n",
    "β2 = result.beta[2, :]\n",
    "true_b2_idx = findall(!iszero, B[:, 2])\n",
    "[β2[true_b2_idx] B[true_b2_idx, 2]]"
   ]
  },
  {
   "cell_type": "code",
   "execution_count": 7,
   "metadata": {
    "collapsed": false
   },
   "outputs": [
    {
     "data": {
      "text/plain": [
       "2×2 Array{Float64,2}:\n",
       "  0.545089   0.5\n",
       " 10.0167    10.0"
      ]
     },
     "execution_count": 7,
     "metadata": {},
     "output_type": "execute_result"
    }
   ],
   "source": [
    "# non genetic covariates\n",
    "[result.c intercepts']"
   ]
  },
  {
   "cell_type": "code",
   "execution_count": 8,
   "metadata": {
    "collapsed": false
   },
   "outputs": [
    {
     "data": {
      "text/plain": [
       "4×2 Array{Float64,2}:\n",
       " 5.97584   5.65059\n",
       " 2.10382   1.97568\n",
       " 2.10382   1.97568\n",
       " 0.752572  0.702678"
      ]
     },
     "execution_count": 8,
     "metadata": {},
     "output_type": "execute_result"
    }
   ],
   "source": [
    "# covariance matrix\n",
    "[vec(result.Σ) vec(Σ)]"
   ]
  },
  {
   "cell_type": "code",
   "execution_count": 9,
   "metadata": {
    "collapsed": false
   },
   "outputs": [
    {
     "data": {
      "text/plain": [
       "7-element Array{Int64,1}:\n",
       " 2529\n",
       " 2872\n",
       " 4248\n",
       " 8921\n",
       " 4710\n",
       " 6991\n",
       " 8964"
      ]
     },
     "execution_count": 9,
     "metadata": {},
     "output_type": "execute_result"
    }
   ],
   "source": [
    "# number of causal SNPs recovered\n",
    "correct_position = findall(!iszero, B)\n",
    "correct_snps = [x[1] for x in correct_position]             # truely causal snps\n",
    "signif_snps = findall(!iszero, β1) ∪ findall(!iszero, β2)   # IHT's selected snps\n",
    "signif_snps ∩ correct_snps"
   ]
  },
  {
   "cell_type": "code",
   "execution_count": 13,
   "metadata": {
    "collapsed": false
   },
   "outputs": [
    {
     "name": "stderr",
     "output_type": "stream",
     "text": [
      "\u001b[32mCross validating...100%|████████████████████████████████| Time: 0:00:11\u001b[39m\n"
     ]
    },
    {
     "name": "stdout",
     "output_type": "stream",
     "text": [
      "\n",
      "\n",
      "Crossvalidation Results:\n",
      "\tk\tMSE\n",
      "\t1\t3640.903878187202\n",
      "\t2\t5136.743455625588\n",
      "\t3\t1863.1948066249706\n",
      "\t4\t1670.4731329049519\n",
      "\t5\t1545.0302734109982\n",
      "\t6\t1479.4239614780086\n",
      "\t7\t1481.4458591080859\n",
      "\t8\t1490.3409149877882\n",
      "\t9\t1462.718430332951\n",
      "\t10\t1466.086676084636\n",
      "\t11\t1457.4576808962279\n",
      "\t12\t1441.3324810398728\n",
      "\t13\t1438.546205290451\n",
      "\t14\t1429.6885863820098\n",
      "\t15\t1400.8436416671896\n",
      "\t16\t1393.7121458656584\n",
      "\t17\t1393.0616799444094\n",
      "\t18\t1392.61421066748\n",
      "\t19\t1395.4624808788124\n",
      "\t20\t1398.0522212072035\n",
      "\n",
      "Best k = 18\n",
      "\n",
      " 11.774955 seconds (127.80 k allocations: 13.032 MiB, 0.19% gc time)\n"
     ]
    }
   ],
   "source": [
    "# 4 cores\n",
    "Random.seed!(2020)\n",
    "@time mses = cv_iht(Yt, Transpose(xla), Zt, path=1:20, parallel=true);"
   ]
  },
  {
   "cell_type": "markdown",
   "metadata": {},
   "source": [
    "## GEMMA multivariate results\n",
    "\n",
    "We use the wald test statistics. The likelihood ratio p-values are all 1.0 or 0.0, so there's some problems with it. "
   ]
  },
  {
   "cell_type": "code",
   "execution_count": 35,
   "metadata": {
    "collapsed": false
   },
   "outputs": [
    {
     "data": {
      "text/plain": [
       "power_and_fpr"
      ]
     },
     "execution_count": 35,
     "metadata": {},
     "output_type": "execute_result"
    }
   ],
   "source": [
    "\"\"\"\n",
    "Computes power and false positive rates\n",
    "- p: total number of SNPs\n",
    "- correct_snps: Indices of the true causal SNPs\n",
    "- detected_snps: Indices of SNPs that are significant after testing\n",
    "\"\"\"\n",
    "function power_and_fpr(p::Int, correct_snps::Vector{Int}, detected_snps::Vector{Int})\n",
    "    power = length(detected_snps ∩ correct_snps) / length(correct_snps)\n",
    "    FP = length(detected_snps) - length(detected_snps ∩ correct_snps) # number of false positives\n",
    "    TN = p - length(detected_snps) # number of true negatives\n",
    "    FPR = FP / (FP + TN)\n",
    "    return power, FP, FPR\n",
    "end"
   ]
  },
  {
   "cell_type": "code",
   "execution_count": 83,
   "metadata": {
    "collapsed": false
   },
   "outputs": [
    {
     "name": "stdout",
     "output_type": "stream",
     "text": [
      "signif_snps ∩ correct_snps = [2529, 2872, 4248, 6991, 8921]\n"
     ]
    },
    {
     "data": {
      "text/plain": [
       "(0.5, 0, 0.0)"
      ]
     },
     "execution_count": 83,
     "metadata": {},
     "output_type": "execute_result"
    }
   ],
   "source": [
    "gemma_df = CSV.read(\"gemma.polygenic.result.assoc.txt\", DataFrame)\n",
    "correct_position = findall(!iszero, B)\n",
    "\n",
    "# pvalues\n",
    "pval_wald = gemma_df[!, :p_wald]\n",
    "pval_lrt = gemma_df[!, :p_lrt]\n",
    "pval_score = gemma_df[!, :p_score]\n",
    "\n",
    "# estimated beta\n",
    "estim_β1 = gemma_df[!, :beta_1]\n",
    "estim_β2 = gemma_df[!, :beta_2]\n",
    "\n",
    "# estimated covariance matrix\n",
    "estim_σ11 = gemma_df[!, :Vbeta_1_1]\n",
    "estim_σ12 = gemma_df[!, :Vbeta_1_2]\n",
    "estim_σ22 = gemma_df[!, :Vbeta_2_2];\n",
    "\n",
    "# check how many real SNPs were recovered\n",
    "correct_snps = [x[1] for x in correct_position]  # truely causal snps\n",
    "signif_snps = findall(x -> x ≤ 0.05/p, pval_wald) # gemma's selected snps\n",
    "@show signif_snps ∩ correct_snps\n",
    "\n",
    "# compute power, false positives, and false positive rate\n",
    "power_and_fpr(p, correct_snps, signif_snps)"
   ]
  },
  {
   "cell_type": "markdown",
   "metadata": {},
   "source": [
    "## MV-PLINK"
   ]
  },
  {
   "cell_type": "code",
   "execution_count": 82,
   "metadata": {
    "collapsed": false
   },
   "outputs": [
    {
     "name": "stdout",
     "output_type": "stream",
     "text": [
      "signif_snps ∩ correct_snps = [2529, 2872, 4248, 6991, 8921]\n"
     ]
    },
    {
     "data": {
      "text/plain": [
       "(0.5, 0, 0.0)"
      ]
     },
     "execution_count": 82,
     "metadata": {},
     "output_type": "execute_result"
    }
   ],
   "source": [
    "mvplink_df = CSV.read(\"plink.mqfam.polygenic.total\", DataFrame, delim=' ', ignorerepeated=true)\n",
    "\n",
    "# pvalues\n",
    "pval = mvplink_df[!, :P]\n",
    "\n",
    "# SNPs passing threshold\n",
    "signif_snps = findall(x -> x ≤ 0.05 / p, pval)\n",
    "@show signif_snps ∩ correct_snps\n",
    "\n",
    "# compute power, false positives, and false positive rate\n",
    "power_and_fpr(p, correct_snps, signif_snps)"
   ]
  },
  {
   "cell_type": "markdown",
   "metadata": {
    "collapsed": true
   },
   "source": [
    "# Conclusion\n",
    "\n",
    "+ MV-PLINK and IHT run in seconds, GEMMA runs in minutes ~ hours\n",
    "+ Multivariate IHT's beta estimates are precise, under both truly sparse or polygenic model.\n",
    "+ With polygenic model, IHT finds more true SNPs but also has higher false positive rate. \n",
    "+ In a separate simulation with 5k samples and 300k SNPs, IHT's cross validation takes roughly 1.5h on 8 cores. "
   ]
  },
  {
   "cell_type": "markdown",
   "metadata": {},
   "source": [
    "# Large scale simulation\n",
    "\n",
    "The code below is meant for running on Hoffman2 cluster."
   ]
  },
  {
   "cell_type": "code",
   "execution_count": 13,
   "metadata": {
    "collapsed": false
   },
   "outputs": [
    {
     "data": {
      "text/plain": [
       "true"
      ]
     },
     "execution_count": 13,
     "metadata": {},
     "output_type": "execute_result"
    }
   ],
   "source": [
    "using Distributed\n",
    "addprocs(8)\n",
    "\n",
    "@everywhere using Revise\n",
    "@everywhere using MendelIHT\n",
    "@everywhere using SnpArrays\n",
    "@everywhere using Random\n",
    "@everywhere using GLM\n",
    "@everywhere using DelimitedFiles\n",
    "@everywhere using Distributions\n",
    "@everywhere using LinearAlgebra\n",
    "@everywhere using CSV\n",
    "@everywhere using DataFrames\n",
    "@everywhere using StatsBase\n",
    "@everywhere using TraitSimulation\n",
    "\n",
    "\"\"\"\n",
    "k = Number of causal SNPs\n",
    "p = Total number of SNPs\n",
    "traits = Number of traits (phenotypes)\n",
    "overlap = number of causal SNPs shared in each trait\n",
    "\"\"\"\n",
    "function simulate_random_beta(k::Int, p::Int, traits::Int; overlap::Int=0, βσ=1.0)\n",
    "    d = Normal(0, βσ)\n",
    "    true_b = zeros(p, traits)\n",
    "    if overlap == 0\n",
    "        causal_snps = sample(1:(traits * p), k, replace=false)\n",
    "        true_b[causal_snps] = rand(d, k)\n",
    "    else\n",
    "        shared_snps = sample(1:p, overlap, replace=false)\n",
    "        weight_vector = aweights(1 / (traits * (p - overlap)) * ones(traits * p))\n",
    "        for i in 1:traits\n",
    "            weight_vector[i*shared_snps] .= 0.0 # avoid sampling from shared snps\n",
    "        end\n",
    "        @assert sum(weight_vector) ≈ 1.0\n",
    "        # simulate β for shared predictors\n",
    "        for i in 1:traits\n",
    "            true_b[shared_snps, i] = rand(d, overlap)\n",
    "        end\n",
    "        # simulate β for none shared predictors\n",
    "        nonshared_snps = sample(1:(traits * p), weight_vector, k - (traits * overlap), replace=false)\n",
    "        true_b[nonshared_snps] = rand(d, k - (traits * overlap))\n",
    "    end\n",
    "\n",
    "    return true_b\n",
    "end\n",
    "\n",
    "\"\"\"\n",
    "# Arguments\n",
    "xla = simulated genotype matrix (converted to a SnpLinAlg)\n",
    "k = number of causal SNPs\n",
    "r = number of traits\n",
    "Φ = estimated GRM (using GEMMA)\n",
    "\n",
    "# Optional arguments\n",
    "seed = random seed for reproducibility\n",
    "σ2 = contribution of GRM\n",
    "σe = random environmental effect\n",
    "βoverlap = number of causal SNPs shared in all traits\n",
    "\"\"\"\n",
    "function simulate_multivariate_polygenic(\n",
    "    plinkname::String, n::Int, p::Int, k::Int, r::Int;\n",
    "    seed::Int=2021, σg=0.6, σe=0.4, βoverlap=2, βσ=1.0\n",
    "    )\n",
    "    # set seed\n",
    "    Random.seed!(seed)\n",
    "    \n",
    "    # simulate `.bed` file with no missing data\n",
    "    x = simulate_random_snparray(\"sim$seed/\" * plinkname * \".bed\", n, p)\n",
    "    xla = SnpLinAlg{Float64}(x, model=ADDITIVE_MODEL, center=true, scale=true)\n",
    "    \n",
    "    # intercept is the only nongenetic covariate\n",
    "    Z = ones(n, 1)\n",
    "    intercepts = randn(r)' # each trait have different intercept\n",
    "\n",
    "    # simulate β\n",
    "    B = simulate_random_beta(k, p, r, overlap=βoverlap, βσ=βσ)\n",
    "    writedlm(\"sim$(seed)/trueb.txt\", B)\n",
    "\n",
    "    # between trait covariance matrix\n",
    "    Σ = random_covariance_matrix(r)\n",
    "\n",
    "    # between sample covariance is identity + GRM (2x because OpenMendel always uses half the GRM)\n",
    "    Φ = 2grm(x, method=:Robust)\n",
    "    writedlm(\"sim$seed/$plinkname.grm\", Φ)\n",
    "    V = σg * Φ + σe * I\n",
    "\n",
    "    # simulate y using TraitSimulations.jl (https://github.com/OpenMendel/TraitSimulation.jl/blob/master/src/modelframework.jl#L137)\n",
    "    vc = @vc Σ ⊗ V\n",
    "    μ = zeros(n, r)\n",
    "    μ_null = zeros(n, r)\n",
    "    LinearAlgebra.mul!(μ_null, Z, intercepts)\n",
    "    mul!(μ, xla, B)\n",
    "    BLAS.axpby!(1.0, μ_null, 1.0, μ)\n",
    "    VCM_model = VCMTrait(Z, intercepts, xla, B, vc, μ)\n",
    "    Y = Matrix(Transpose(simulate(VCM_model)))\n",
    "\n",
    "    # simulate using Distributions.jl\n",
    "    # μ = z * intercepts + xla * B\n",
    "    # Y = rand(MatrixNormal(μ', Σ, V))\n",
    "    \n",
    "    return xla, Matrix(Z'), B, Σ, Y\n",
    "end\n",
    "\n",
    "function simulate_multivariate_sparse(\n",
    "    plinkname::String, n::Int, p::Int, k::Int, r::Int;\n",
    "    seed::Int=2021, σg=0.6, σe=0.4, βoverlap=2, \n",
    "    )\n",
    "    # set seed\n",
    "    Random.seed!(seed)\n",
    "    \n",
    "    # simulate `.bed` file with no missing data\n",
    "    x = simulate_random_snparray(\"sim$seed/\" * plinkname * \".bed\", n, p)\n",
    "    xla = SnpLinAlg{Float64}(x, model=ADDITIVE_MODEL, center=true, scale=true)\n",
    "    n, p = size(x)\n",
    "\n",
    "    # intercept is the only nongenetic covariate\n",
    "    z = ones(n, 1)\n",
    "    intercepts = randn(r)' # each trait have different intercept\n",
    "\n",
    "    # simulate response y, true model b, and the correct non-0 positions of b\n",
    "    Y, true_Σ, true_b, correct_position = simulate_random_response(xla, k, r, Zu=z*intercepts, overlap=2);\n",
    "    \n",
    "    return xla, Matrix(z'), true_b, true_Σ, Matrix(Y')\n",
    "end\n",
    "\n",
    "function simulate_NFBC1966_sparse(\n",
    "    plinkname::String, k::Int, r::Int;\n",
    "    seed::Int=2021, σg=0.6, σe=0.4, βoverlap=2, βσ = 1.0\n",
    "    )\n",
    "    # set seed\n",
    "    Random.seed!(seed)\n",
    "    \n",
    "    # simulate `.bed` file with no missing data\n",
    "    x = SnpArray(plinkname * \".bed\")\n",
    "    xla = SnpLinAlg{Float64}(x, model=ADDITIVE_MODEL, center=true, scale=true)\n",
    "    n, p = size(xla)\n",
    "    \n",
    "    # intercept is the only nongenetic covariate\n",
    "    Z = ones(n, 1)\n",
    "    intercepts = randn(r)' # each trait have different intercept\n",
    "\n",
    "    # simulate β\n",
    "    B = simulate_random_beta(k, p, r, overlap=βoverlap, βσ=βσ)\n",
    "    writedlm(\"sim$(seed)/trueb.txt\", B)\n",
    "\n",
    "    # between trait covariance matrix\n",
    "    Σ = random_covariance_matrix(r)\n",
    "    \n",
    "    # simulate multivariate normal phenotype for each sample\n",
    "    μ = xla * B + Z*intercepts\n",
    "\n",
    "    # simulate response\n",
    "    Y = zeros(n, r)\n",
    "    for i in 1:n\n",
    "        μi = @view(μ[i, :])\n",
    "        Y[i, :] = rand(MvNormal(μi, Σ))\n",
    "    end\n",
    "    \n",
    "    return xla, Matrix(Z'), B, Σ, Matrix(Y')\n",
    "end\n",
    "\n",
    "function simulate_NFBC1966_polygenic(\n",
    "    plinkname::String, k::Int, r::Int;\n",
    "    seed::Int=2021, σg=0.6, σe=0.4, βoverlap=2, βσ=1.0,\n",
    "    )\n",
    "    # set seed\n",
    "    Random.seed!(seed)\n",
    "    \n",
    "    # simulate `.bed` file with no missing data\n",
    "    x = SnpArray(plinkname * \".bed\")\n",
    "    xla = SnpLinAlg{Float64}(x, model=ADDITIVE_MODEL, center=true, scale=true)\n",
    "    n, p = size(x)\n",
    "    \n",
    "    # intercept is the only nongenetic covariate\n",
    "    Z = ones(n, 1)\n",
    "    intercepts = randn(r)' # each trait have different intercept\n",
    "\n",
    "    # simulate β\n",
    "    B = simulate_random_beta(k, p, r, overlap=βoverlap, βσ=βσ)\n",
    "    writedlm(\"sim$(seed)/trueb.txt\", B)\n",
    "\n",
    "    # between trait covariance matrix\n",
    "    Σ = random_covariance_matrix(r)\n",
    "    writedlm(\"sim$(seed)/true_cov.txt\", Σ)\n",
    "\n",
    "    # between sample covariance is identity + GRM\n",
    "    Φ = readdlm(plinkname * \".cXX.txt\")\n",
    "    V = σg * Φ + σe * I\n",
    "\n",
    "    # simulate y using TraitSimulations.jl (https://github.com/OpenMendel/TraitSimulation.jl/blob/master/src/modelframework.jl#L137)\n",
    "    vc = @vc Σ ⊗ V\n",
    "    μ = zeros(n, r)\n",
    "    μ_null = zeros(n, r)\n",
    "    LinearAlgebra.mul!(μ_null, Z, intercepts)\n",
    "    mul!(μ, xla, B)\n",
    "    BLAS.axpby!(1.0, μ_null, 1.0, μ)\n",
    "    VCM_model = VCMTrait(Z, intercepts, xla, B, vc, μ)\n",
    "    Y = Matrix(Transpose(simulate(VCM_model)))\n",
    "\n",
    "    # simulate using Distributions.jl\n",
    "    # μ = z * intercepts + xla * B\n",
    "    # Y = rand(MatrixNormal(μ', Σ, V))\n",
    "    \n",
    "    return xla, Matrix(Z'), B, Σ, Y\n",
    "end\n",
    "\n",
    "function make_bim_file(x::SnpLinAlg, name::String)\n",
    "    p = size(x, 2)\n",
    "\n",
    "    #create .bim file structure: https://www.cog-genomics.org/plink2/formats#bim\n",
    "    open(name * \".bim\", \"w\") do f\n",
    "        for i in 1:p\n",
    "            write(f, \"1\\tsnp$i\\t0\\t1\\t1\\t2\\n\")\n",
    "        end\n",
    "    end\n",
    "end\n",
    "\n",
    "function make_GEMMA_fam_file(x::SnpLinAlg, y::AbstractVecOrMat, name::String)\n",
    "    ly = size(y, 1)\n",
    "    n, p = size(x)\n",
    "\n",
    "    # put 1st phenotypes in 6th column, 2nd phenotype in 7th column ... etc\n",
    "    traits = size(y, 1)\n",
    "    open(name * \".fam\", \"w\") do f\n",
    "        for i in 1:n\n",
    "            write(f, \"$i\\t1\\t0\\t0\\t1\")\n",
    "            for j in 1:traits\n",
    "                write(f, \"\\t$(y[j, i])\")\n",
    "            end\n",
    "            write(f, \"\\n\")\n",
    "        end\n",
    "    end\n",
    "end\n",
    "\n",
    "function make_MVPLINK_fam_and_phen_file(x::SnpLinAlg, y::AbstractVecOrMat, name::String)\n",
    "    ly = size(y, 1)\n",
    "    n, p = size(x)\n",
    "\n",
    "    # put a random phenotype in fam file\n",
    "    traits = size(y, 1)\n",
    "    open(name * \".fam\", \"w\") do f\n",
    "        for i in 1:n\n",
    "            println(f, \"$i\\t1\\t0\\t0\\t1\\t1\")\n",
    "        end\n",
    "    end\n",
    "\n",
    "    # save phenotypes in separate `.phen` file\n",
    "    open(name * \".phen\", \"w\") do io\n",
    "        print(io, \"FID\\tIID\")\n",
    "        for j in 1:traits\n",
    "            print(io, \"\\tT$j\")\n",
    "        end\n",
    "        print(io, \"\\n\")\n",
    "        for i in 1:n\n",
    "            print(io, \"$i\\t1\")\n",
    "            for j in 1:traits\n",
    "                write(io, \"\\t$(y[j, i])\")\n",
    "            end\n",
    "            print(io, \"\\n\")\n",
    "        end\n",
    "    end\n",
    "end\n",
    "\n",
    "\"\"\"\n",
    "Computes power and false positive rates\n",
    "- p: total number of SNPs\n",
    "- correct_snps: Indices (or ID) of the true causal SNPs\n",
    "- detected_snps: Indices (or ID) of SNPs that are significant after testing\n",
    "\n",
    "returns: power, number of false positives, and false positive rate\n",
    "\"\"\"\n",
    "function power_and_fpr(p::Int, correct_snps::Vector, signif_snps::Vector)\n",
    "    power = length(signif_snps ∩ correct_snps) / length(correct_snps)\n",
    "    FP = length(signif_snps) - length(signif_snps ∩ correct_snps) # number of false positives\n",
    "    TN = p - length(signif_snps) # number of true negatives\n",
    "    FPR = FP / (FP + TN)\n",
    "    return power, FP, FPR\n",
    "end\n",
    "\n",
    "\"\"\"\n",
    "- filename: gemma's output file name\n",
    "- correct_snps: indices for real causal SNPs\n",
    "\n",
    "returns: power, number of false positives, and false positive rate\n",
    "\"\"\"\n",
    "function process_gemma_result(filename, correct_snpid)\n",
    "    # read GEMMA result\n",
    "    gemma_df = CSV.read(filename, DataFrame)\n",
    "    snps = size(gemma_df, 1)\n",
    "\n",
    "    # pvalues\n",
    "    pval_wald = gemma_df[!, :p_wald]\n",
    "#    pval_lrt = gemma_df[!, :p_lrt]\n",
    "#     pval_score = gemma_df[!, :p_score]\n",
    "\n",
    "    # estimated beta\n",
    "#     estim_β1 = gemma_df[!, :beta_1]\n",
    "#     estim_β2 = gemma_df[!, :beta_2]\n",
    "\n",
    "#     # estimated covariance matrix\n",
    "#     estim_σ11 = gemma_df[!, :Vbeta_1_1]\n",
    "#     estim_σ12 = gemma_df[!, :Vbeta_1_2]\n",
    "#     estim_σ22 = gemma_df[!, :Vbeta_2_2];\n",
    "\n",
    "    # check how many real SNPs were recovered\n",
    "    signif_snps = findall(x -> x ≤ 0.05 / snps, pval_wald) # gemma's selected snps\n",
    "    signif_snpid = gemma_df[signif_snps, :rs]\n",
    "\n",
    "    # compute power, false positives, and false positive rate\n",
    "    power_and_fpr(snps, correct_snpid, signif_snpid)\n",
    "end\n",
    "\n",
    "\"\"\"\n",
    "- filename: mvPLINK's output file name\n",
    "- correct_snps: indices for real causal SNPs\n",
    "\n",
    "returns: power, number of false positives, and false positive rate\n",
    "\"\"\"\n",
    "function process_mvPLINK(filename, correct_snps)\n",
    "    # read mvPLINK result\n",
    "    mvplink_df = CSV.read(filename, DataFrame, delim=' ', ignorerepeated=true)\n",
    "    snps = size(mvplink_df, 1)\n",
    "\n",
    "    # get pvalues, possibly accounting for \"NA\"s\n",
    "    if eltype(mvplink_df[!, :P]) == Float64\n",
    "        pval = mvplink_df[!, :P]\n",
    "    else\n",
    "        mvplink_df[findall(x -> x == \"NA\", mvplink_df[!, :P]), :P] .= \"1.0\"\n",
    "        pval = parse.(Float64, mvplink_df[!, :P])\n",
    "    end\n",
    "\n",
    "    # SNPs passing threshold\n",
    "    signif_snps = findall(x -> x ≤ 0.05 / snps, pval)\n",
    "\n",
    "    # compute power, false positives, and false positive rate\n",
    "    power_and_fpr(snps, correct_snps, signif_snps)\n",
    "end\n",
    "\n",
    "\"\"\"\n",
    "# Arguments\n",
    "n = number of samples\n",
    "p = number of SNPs\n",
    "k = number of causal SNPs\n",
    "r = number of traits\n",
    "\n",
    "# Optional arguments\n",
    "seed = random seed for reproducibility\n",
    "σ2 = contribution of GRM\n",
    "σe = random environmental effect\n",
    "βoverlap = number of causal SNPs shared in all traits\n",
    "\"\"\"\n",
    "# function one_simulation(\n",
    "#     n::Int, p::Int, k::Int, r::Int;\n",
    "#     seed::Int=2021, σg=0.6, σe=0.4, βoverlap=2\n",
    "#     )\n",
    "#     isdir(\"sim$seed\") || mkdir(\"sim$seed\")\n",
    "#     plinkname = \"sim$(seed)_$(r)traits\"\n",
    "    \n",
    "#     # simulate data\n",
    "#     xla, Z, B, Σ, Y = simulate_multivariate_sparse(plinkname, n, p, k, r,\n",
    "#         seed=seed, σg=σg, σe=σe, βoverlap=βoverlap)\n",
    "#     correct_position = findall(!iszero, B)\n",
    "#     correct_snps = unique([x[1] for x in correct_position])\n",
    "#     make_bim_file(xla, \"sim$(seed)/\" * plinkname)\n",
    "    \n",
    "#     # run IHT\n",
    "#     Random.seed!(seed)\n",
    "#     iht_time = @elapsed begin\n",
    "#         mses = cv_iht(Y, Transpose(xla), Z, parallel=true)\n",
    "#         iht_result = fit_iht(Y, Transpose(xla), Z, k=argmin(mses))\n",
    "#     end\n",
    "#     β1, β2 = iht_result.beta[1, :], iht_result.beta[2, :]\n",
    "#     detected_snps = findall(!iszero, β1) ∪ findall(!iszero, β2)\n",
    "#     iht_power, iht_FP, iht_FPR = power_and_fpr(size(B, 1), correct_snps, detected_snps)\n",
    "#     writedlm(\"sim$(seed)/iht_beta1.txt\", β1)\n",
    "#     writedlm(\"sim$(seed)/iht_beta2.txt\", β2)\n",
    "#     println(\"IHT power = $iht_power, FP = $iht_FP, FPR = $iht_FPR\")\n",
    "\n",
    "#     # run MVPLINK\n",
    "#     phenofile = \"sim$(seed)/\" * plinkname * \".phen\"\n",
    "#     outfile = \"sim$(seed)/mvPLINK_sim$seed.mqfam.total\"\n",
    "#     make_MVPLINK_fam_and_phen_file(xla, Y, \"sim$(seed)/\" * plinkname)\n",
    "#     mvplink_time = @elapsed run(`./plink.multivariate --bfile sim$(seed)/$plinkname --noweb --mult-pheno $phenofile --mqfam`)\n",
    "#     mv(\"plink.mqfam.total\", outfile, force=true)\n",
    "#     mv(\"plink.log\", \"sim$(seed)/mvPLINK_sim$seed.log\", force=true)\n",
    "#     mvPLINK_power, mvPLINK_FP, mvPLINK_FPR = process_mvPLINK(outfile, correct_snps)\n",
    "#     println(\"mvPLINK power = $mvPLINK_power, FP = $mvPLINK_FP, FPR = $mvPLINK_FPR\")\n",
    "\n",
    "#     # run GEMMA\n",
    "#     make_GEMMA_fam_file(xla, Y, \"sim$(seed)/\" * plinkname)\n",
    "#     gemma_time = @elapsed begin\n",
    "#         run(`./gemma -bfile sim$(seed)/$plinkname -gk 1 -o $plinkname`)\n",
    "#         run(`./gemma -bfile sim$(seed)/$plinkname -k output/$(plinkname).cXX.txt -maf 0.0001 -lmm 1 -n 1 2 -o gemma.sim$seed`)\n",
    "#     end\n",
    "#     gemma_power, gemma_FP, gemma_FPR = process_gemma_result(\"output/gemma.sim$seed.assoc.txt\", correct_snps)\n",
    "#     println(\"GEMMA power = $gemma_power, FP = $gemma_FP, FPR = $gemma_FPR\")\n",
    "#     mv(\"output/gemma.sim$seed.assoc.txt\", \"sim$(seed)/gemma.sim$seed.assoc.txt\")\n",
    "#     mv(\"output/gemma.sim$seed.log.txt\", \"sim$(seed)/gemma.sim$seed.log.txt\")\n",
    "\n",
    "#     # save summary stats\n",
    "#     open(\"sim$(seed)/summary.txt\", \"w\") do io\n",
    "#         println(io, \"Simulation $seed summary\")\n",
    "#         println(io, \"n = $n, p = $p, k = $k, r = $r\\n\")\n",
    "#         println(io, \"IHT time = $iht_time seconds, power = $iht_power, FP = $iht_FP, FPR = $iht_FPR\")\n",
    "#         println(io, \"mvPLINK time = $mvplink_time seconds, power = $mvPLINK_power, FP = $mvPLINK_FP, FPR = $mvPLINK_FPR\")\n",
    "#         println(io, \"GEMMA time = $gemma_time seconds, power = $gemma_power, FP = $gemma_FP, FPR = $gemma_FPR\")\n",
    "#     end\n",
    "\n",
    "#     return nothing\n",
    "# end\n",
    "\n",
    "function one_NFBC_simulation(\n",
    "    k::Int, r::Int;\n",
    "    seed::Int=2021, σg=0.6, σe=0.4, βoverlap=2, βσ = 1.0,\n",
    "    path=1:20, init_beta=false, model=:polygenic, debias=false\n",
    "    )\n",
    "    cd(\"/u/scratch/b/biona001\")\n",
    "    isdir(\"sim$seed\") || mkdir(\"sim$seed\")\n",
    "    plinkname = \"NFBC_imputed_with_0\"\n",
    "    \n",
    "    # simulate data\n",
    "    Random.seed!(seed)\n",
    "    if model == :polygenic\n",
    "        xla, Z, B, Σ, Y = simulate_NFBC1966_polygenic(plinkname, k, r,\n",
    "            seed=seed, σg=σg, σe=σe, βoverlap=βoverlap, βσ=βσ)\n",
    "    elseif model == :sparse\n",
    "        xla, Z, B, Σ, Y = simulate_NFBC1966_sparse(plinkname, k, r,\n",
    "            seed=seed, σg=σg, σe=σe, βoverlap=βoverlap, βσ=βσ)\n",
    "    else\n",
    "        error(\"model should be :sparse or :polygenic\")\n",
    "    end\n",
    "    correct_position = findall(!iszero, B)\n",
    "    correct_snps = unique([x[1] for x in correct_position])\n",
    "    correct_snp_rsid = SnpData(plinkname).snp_info[correct_snps, :snpid]\n",
    "    \n",
    "    # run GEMMA (GRM is precomputed already)\n",
    "    cd(\"sim$seed\")\n",
    "    run(`cp ../NFBC_imputed_with_0.bed .`)\n",
    "    run(`cp ../NFBC_imputed_with_0.bim .`)\n",
    "    run(`cp ../NFBC_imputed_with_0.cXX.txt .`)\n",
    "    make_GEMMA_fam_file(xla, Y, plinkname)\n",
    "    pheno_columns = [string(ri) for ri in 1:r]\n",
    "    gemma_time = @elapsed begin\n",
    "        run(`../gemma -bfile $plinkname -k $(plinkname).cXX.txt -notsnp -lmm 1 -n $pheno_columns -o gemma.sim$seed`)\n",
    "    end\n",
    "    gemma_power, gemma_FP, gemma_FPR = process_gemma_result(\"output/gemma.sim$seed.assoc.txt\", correct_snp_rsid)\n",
    "    println(\"GEMMA power = $gemma_power, FP = $gemma_FP, FPR = $gemma_FPR\")\n",
    "    mv(\"output/gemma.sim$seed.assoc.txt\", \"gemma.sim$seed.assoc.txt\")\n",
    "    mv(\"output/gemma.sim$seed.log.txt\", \"gemma.sim$seed.log.txt\")\n",
    "        \n",
    "    # run IHT\n",
    "    iht_time = @elapsed begin\n",
    "        mses = cross_validate(plinkname, MvNormal, path=path, phenotypes=collect(1:r).+5;\n",
    "            init_beta=init_beta, debias=debias)\n",
    "        iht_result = iht(plinkname, path[argmin(mses)], MvNormal, phenotypes=collect(1:r).+5;\n",
    "            init_beta=init_beta, debias=debias)\n",
    "    end\n",
    "    detected_snps = Int[]\n",
    "    for i in 1:r # save each beta separately\n",
    "        β = iht_result.beta[i, :]\n",
    "        detected_snps = detected_snps ∪ findall(!iszero, β)\n",
    "        writedlm(\"iht_beta$i.txt\", β)\n",
    "    end\n",
    "    iht_power, iht_FP, iht_FPR = power_and_fpr(size(B, 1), correct_snps, detected_snps)\n",
    "\n",
    "    # run MVPLINK\n",
    "    phenofile = plinkname * \".phen\"\n",
    "    make_MVPLINK_fam_and_phen_file(xla, Y, plinkname)\n",
    "    mvplink_time = @elapsed run(`../plink.multivariate --bfile $plinkname --noweb --mult-pheno $phenofile --mqfam`)\n",
    "    mvPLINK_power, mvPLINK_FP, mvPLINK_FPR = process_mvPLINK(\"plink.mqfam.total\", correct_snps)\n",
    "    println(\"mvPLINK power = $mvPLINK_power, FP = $mvPLINK_FP, FPR = $mvPLINK_FPR\")\n",
    "        \n",
    "    # clean up\n",
    "    rm(\"plink.hh\", force=true)\n",
    "    rm(\"NFBC_imputed_with_0.fam\", force=true)\n",
    "    rm(\"NFBC_imputed_with_0.bed\", force=true)\n",
    "    rm(\"NFBC_imputed_with_0.bim\", force=true)\n",
    "    rm(\"NFBC_imputed_with_0.cXX.txt\", force=true)\n",
    "\n",
    "    # save summary stats\n",
    "    n, p = size(xla)\n",
    "    open(\"summary.txt\", \"w\") do io\n",
    "        println(io, \"Simulation $seed summary\")\n",
    "        println(io, \"n = $n, p = $p, k = $k, r = $r\\n\")\n",
    "        println(io, \"IHT time = $iht_time seconds, power = $iht_power, FP = $iht_FP, FPR = $iht_FPR\")\n",
    "        println(io, \"mvPLINK time = $mvplink_time seconds, power = $mvPLINK_power, FP = $mvPLINK_FP, FPR = $mvPLINK_FPR\")\n",
    "        println(io, \"GEMMA time = $gemma_time seconds, power = $gemma_power, FP = $gemma_FP, FPR = $gemma_FPR\")\n",
    "    end\n",
    "\n",
    "    return nothing\n",
    "end\n",
    "\n",
    "#\n",
    "# NFBC1966 data (uses TraitSimulation.jl, q = 3, 20 cross validation paths)\n",
    "# sim 1-50 are for k = 10, r = 2, βoverlap = 2 (polygenic model), β ~ N(0, 0.25)    \n",
    "# sim 51-100 are for k = 10, r = 2, βoverlap = 2 (polygenic model), β ~ N(0, 0.1)    \n",
    "# sim 101-150 are for k = 20, r = 2, βoverlap = 4 (polygenic model), β ~ N(0, 0.1)     (run.jl)\n",
    "# sim 151-200 are for k = 50, r = 2, βoverlap = 10 (polygenic model), β ~ N(0, 0.1)     (run2.jl)\n",
    "# sim 201-250 are for k = 100, r = 2, βoverlap = 20 (polygenic model), β ~ N(0, 0.1)     (run3.jl)\n",
    "# sim 251-300 are for k = 10, r = 5, βoverlap = 1 (polygenic model), β ~ N(0, 0.1)     (run4.jl)\n",
    "#\n",
    "        \n",
    "#\n",
    "# NFBC1966 data (uses TraitSimulation.jl, q = 5, 20 cross validation paths, iterates ≥5 times)\n",
    "# sim 301-325 are for k = 10, r = 2, βoverlap = 2 (polygenic model), β ~ N(0, 0.1) (init_beta=false, debias=false)\n",
    "# sim 326-350 are for k = 10, r = 2, βoverlap = 2 (polygenic model), β ~ N(0, 0.1) (init_beta=false, debias=true)\n",
    "# sim 401-425 are for k = 10, r = 2, βoverlap = 2 (sparse model), β ~ N(0, 0.1) (init_beta=false, debias=false)\n",
    "# \n",
    "\n",
    "#\n",
    "# NFBC1966 data (q = 5, polygenic model, iterates ≥5 times, init_beta=false, debias=false, β ~ N(0, 0.1))\n",
    "# sim 1-20 are for k = 10, r = 2, βoverlap = 2, path = 1:20\n",
    "# sim 21-40 are for k = 50, r = 2, βoverlap = 10, path = 5:5:100\n",
    "# sim 41-60 are for k = 100, r = 2, βoverlap = 20, path = 10:10:200\n",
    "# sim 61-80 are for k = 10, r = 5, βoverlap = 1, path = 1:20\n",
    "# sim 81-100 are for k = 50, r = 5, βoverlap = 2, path = 5:5:100\n",
    "# sim 101-120 are for k = 100, r = 5, βoverlap = 4, path = 10:10:200\n",
    "#\n",
    "\n",
    "βσ = 0.1\n",
    "σg = 0.6\n",
    "σe = 0.4\n",
    "model = :polygenic\n",
    "init_beta = false\n",
    "debias = false\n",
    "\n",
    "k = 10\n",
    "r = 2\n",
    "βoverlap = 2\n",
    "path = 1:20\n",
    "\n",
    "seed = parse(Int, ARGS[1])\n",
    "one_NFBC_simulation(k, r, seed = seed, path = path, βoverlap=βoverlap, βσ = βσ,\n",
    "    σg=σg, σe=σe, init_beta=init_beta, model=model)"
   ]
  },
  {
   "cell_type": "code",
   "execution_count": 13,
   "metadata": {
    "collapsed": false
   },
   "outputs": [
    {
     "data": {
      "text/plain": [
       "make_run_sh (generic function with 1 method)"
      ]
     },
     "execution_count": 13,
     "metadata": {},
     "output_type": "execute_result"
    }
   ],
   "source": [
    "function run_repeats(repeats::Int)\n",
    "    for seed in 1:repeats\n",
    "        # create .sh file to submit jobs\n",
    "        open(\"run$seed.sh\", \"w\") do io\n",
    "            println(io, \"#!/bin/bash\")\n",
    "            println(io, \"#\\$ -cwd\")\n",
    "            println(io, \"# error = Merged with joblog\")\n",
    "            println(io, \"#\\$ -o joblog.\\$JOB_ID\")\n",
    "            println(io, \"#\\$ -j y\")\n",
    "            println(io, \"#\\$ -pe shared 12\")\n",
    "            println(io, \"#\\$ -l h_rt=24:00:00,h_data=5G,exclusive\")\n",
    "            println(io, \"# Email address to notify\")\n",
    "            println(io, \"## \\$ -M \\$USER@mal\")\n",
    "            println(io, \"# Notify when:\")\n",
    "            println(io, \"#\\$ -m bea\")\n",
    "            println(io, \"\")\n",
    "            println(io, \"#save job info on joblog:\")\n",
    "            println(io, \"echo \\\"Job \\$JOB_ID started on:   \\\" `hostname -s`\")\n",
    "            println(io, \"echo \\\"Job \\$JOB_ID started on:   \\\" `date `\")\n",
    "            println(io, \"\")\n",
    "            println(io, \"# load the job environment:\")\n",
    "            println(io, \". /u/local/Modules/default/init/modules.sh\")\n",
    "            println(io, \"module load julia/1.5.4\")\n",
    "            println(io, \"module li\")\n",
    "            println(io, \"which julia\")\n",
    "            println(io, \"\")\n",
    "            println(io, \"# run code\")\n",
    "            println(io, \"echo 'julia run.jl seed = $seed (run IHT/GEMMA/mvPLINK on simulated data (sparse model))'\")\n",
    "            println(io, \"pwd; julia /u/home/b/biona001/multivariate/run.jl $seed\")\n",
    "            println(io, \"\")\n",
    "            println(io, \"#echo job info on joblog:\")\n",
    "            println(io, \"echo \\\"Job \\$JOB_ID ended on:   \\\" `hostname -s`\")\n",
    "            println(io, \"echo \\\"Job \\$JOB_ID ended on:   \\\" `date `\")\n",
    "            println(io, \"#echo \\\" \\\"\")\n",
    "        end\n",
    "        \n",
    "        # submit job\n",
    "        run(`qsub run$seed.sh`)\n",
    "        rm(\"run$seed.sh\", force=true)\n",
    "        sleep(2)\n",
    "    end\n",
    "end"
   ]
  },
  {
   "cell_type": "code",
   "execution_count": null,
   "metadata": {
    "collapsed": true
   },
   "outputs": [],
   "source": [
    "# run this on Hua's computer\n",
    "function run_repeats(s::Int, e::Int) # start and end\n",
    "    for seed in s:e\n",
    "        run(pipeline(`/usr/local/bin/julia run.jl $seed`, stdout=\"joglog.sim$seed\"))\n",
    "    end\n",
    "end\n",
    "s = parse(Int, ARGS[1])\n",
    "e = parse(Int, ARGS[2])\n",
    "run_repeats(s, e)"
   ]
  },
  {
   "cell_type": "code",
   "execution_count": 92,
   "metadata": {
    "collapsed": false
   },
   "outputs": [
    {
     "name": "stdout",
     "output_type": "stream",
     "text": [
      "Simulation 7 failed!\n"
     ]
    }
   ],
   "source": [
    "\"\"\"\n",
    "After performing n simulations using `run_repeats`, this function summarizes the result. \n",
    "\"\"\"\n",
    "function summarize_repeats()\n",
    "#     model = \"polygenic\"\n",
    "#     model = \"sparse\"\n",
    "    model = \"NFBCsim\"\n",
    "    \n",
    "    iht_time, iht_power, iht_FP, iht_FPT = Float64[], Float64[], Float64[], Float64[]\n",
    "    mvPLINK_time, mvPLINK_power, mvPLINK_FP, mvPLINK_FPT = Float64[], Float64[], Float64[], Float64[]\n",
    "    gemma_time, gemma_power, gemma_FP, gemma_FPT = Float64[], Float64[], Float64[], Float64[]\n",
    "\n",
    "    regex = r\"= (\\d+\\.\\d+) seconds, power = (\\d+\\.\\d+), FP = (\\d+), FPR = (\\d\\.\\d+e?-?\\d*)\"\n",
    "    for sim in 1:50\n",
    "        if !isdir(\"$model/sim$sim\") || !isfile(\"$model/sim$(sim)/summary.txt\")\n",
    "            println(\"Simulation $sim failed!\")\n",
    "            continue\n",
    "        end\n",
    "        open(\"$model/sim$(sim)/summary.txt\", \"r\") do io\n",
    "            readline(io); readline(io); readline(io)\n",
    "\n",
    "            # parse IHT result\n",
    "            iht = match(regex, readline(io))\n",
    "            push!(iht_time, parse(Float64, iht[1]))\n",
    "            push!(iht_power, parse(Float64, iht[2]))\n",
    "            push!(iht_FP, parse(Float64, iht[3]))\n",
    "            push!(iht_FPT, parse(Float64, iht[4]))\n",
    "\n",
    "            # parse mvPLINK result\n",
    "            mvPLINK = match(regex, readline(io))\n",
    "            push!(mvPLINK_time, parse(Float64, mvPLINK[1]))\n",
    "            push!(mvPLINK_power, parse(Float64, mvPLINK[2]))\n",
    "            push!(mvPLINK_FP, parse(Float64, mvPLINK[3]))\n",
    "            push!(mvPLINK_FPT, parse(Float64, mvPLINK[4]))\n",
    "\n",
    "            # parse mvPLINK result\n",
    "            gemma = match(regex, readline(io))\n",
    "            push!(gemma_time, parse(Float64, gemma[1]))\n",
    "            push!(gemma_power, parse(Float64, gemma[2]))\n",
    "            push!(gemma_FP, parse(Float64, gemma[3]))\n",
    "            push!(gemma_FPT, parse(Float64, gemma[4]))\n",
    "        end\n",
    "    end\n",
    "    \n",
    "    # save summary statistics\n",
    "    open(\"$(model)_summary.txt\", \"w\") do io\n",
    "        println(io, \"iht_time,iht_power,iht_FP,iht_FPT,mvPLINK_time,mvPLINK_power,\" * \n",
    "            \"mvPLINK_FP,mvPLINK_FPT,gemma_time,gemma_power,gemma_FP,gemma_FPT\")\n",
    "        for i in eachindex(iht_time)\n",
    "            print(io, iht_time[i], ',', iht_power[i], ',', iht_FP[i], ',', iht_FPT[i], ',')\n",
    "            print(io, mvPLINK_time[i], ',', mvPLINK_power[i], ',', mvPLINK_FP[i], ',', mvPLINK_FPT[i], ',')\n",
    "            print(io, gemma_time[i], ',', gemma_power[i], ',', gemma_FP[i], ',', gemma_FPT[i], \"\\n\")\n",
    "        end\n",
    "    end\n",
    "    \n",
    "    return iht_time, iht_power, iht_FP, iht_FPT, \n",
    "        mvPLINK_time, mvPLINK_power, mvPLINK_FP, mvPLINK_FPT,\n",
    "        gemma_time, gemma_power, gemma_FP, gemma_FPT\n",
    "end\n",
    "iht_time, iht_power, iht_FP, iht_FPT, \n",
    "    mvPLINK_time, mvPLINK_power, mvPLINK_FP, mvPLINK_FPT,\n",
    "    gemma_time, gemma_power, gemma_FP, gemma_FPT = summarize_repeats();"
   ]
  },
  {
   "cell_type": "code",
   "execution_count": 93,
   "metadata": {
    "collapsed": false
   },
   "outputs": [],
   "source": [
    "# summary = CSV.read(\"sparse_summary.txt\", DataFrame)\n",
    "# summary = CSV.read(\"polygenic_summary.txt\", DataFrame)\n",
    "# summary = CSV.read(\"NFBCsim_summary.txt\", DataFrame)\n",
    "# iht_time, iht_power, iht_FP, iht_FPR = summary[!, 1], summary[!, 2], summary[!, 3], summary[!, 4]\n",
    "# mvPLINK_time, mvPLINK_power, mvPLINK_FP, mvPLINK_FPR = summary[!, 5], summary[!, 6], summary[!, 7], summary[!, 8]\n",
    "# gemma_time, gemma_power, gemma_FP, gemma_FPR = summary[!, 9], summary[!, 10], summary[!, 11], summary[!, 12];"
   ]
  },
  {
   "cell_type": "markdown",
   "metadata": {},
   "source": [
    "## Polygenic summary (simulated genotypes)"
   ]
  },
  {
   "cell_type": "code",
   "execution_count": 70,
   "metadata": {
    "collapsed": false
   },
   "outputs": [
    {
     "name": "stdout",
     "output_type": "stream",
     "text": [
      "mean(iht_time) = 102.12144187497917\n",
      "mean(mvPLINK_time) = 9.455460785250002\n",
      "mean(gemma_time) = 2872.545454084438\n"
     ]
    },
    {
     "data": {
      "text/plain": [
       "48×3 Array{Float64,2}:\n",
       " 101.633    8.33465     31.3264\n",
       "  73.6667   7.20927     19.9654\n",
       "  79.2369   9.77717   9588.24\n",
       " 155.951   11.1171      56.0372\n",
       " 115.827    9.39161     38.0505\n",
       " 143.396    9.82422     36.8143\n",
       " 136.952    9.35495     41.7448\n",
       " 101.223    9.79519   8627.74\n",
       "  88.5298   9.40819     24.675\n",
       "  81.8591   9.36133     26.0969\n",
       "  79.4635   9.39698   9075.45\n",
       " 112.114    9.35381   1215.72\n",
       "  78.7716   9.34317     44.6783\n",
       "   ⋮                 \n",
       " 128.094    9.79237    867.71\n",
       "  79.7074   9.78698   2963.97\n",
       " 101.066    9.79456     40.6364\n",
       " 124.03     9.36471     29.5194\n",
       " 113.662    9.7644      44.715\n",
       "  78.192    9.77141     42.9388\n",
       "  83.149    9.36022   9080.8\n",
       " 109.215    9.35909     41.7627\n",
       " 120.249    9.85564  10124.6\n",
       "  90.9305   9.36481   9069.79\n",
       "  80.9163   9.35925   9082.79\n",
       "  76.5582   9.79315    649.109"
      ]
     },
     "execution_count": 70,
     "metadata": {},
     "output_type": "execute_result"
    }
   ],
   "source": [
    "# time comparisons\n",
    "@show mean(iht_time)\n",
    "@show mean(mvPLINK_time)\n",
    "@show mean(gemma_time)\n",
    "[iht_time mvPLINK_time gemma_time]"
   ]
  },
  {
   "cell_type": "code",
   "execution_count": 71,
   "metadata": {
    "collapsed": false
   },
   "outputs": [
    {
     "name": "stdout",
     "output_type": "stream",
     "text": [
      "mean(iht_power) = 0.7249999999999998\n",
      "mean(mvPLINK_power) = 0.6270833333333333\n",
      "mean(gemma_power) = 0.6250000000000001\n"
     ]
    },
    {
     "data": {
      "text/plain": [
       "48×3 Array{Float64,2}:\n",
       " 0.7  0.5  0.5\n",
       " 0.6  0.6  0.6\n",
       " 0.8  0.6  0.6\n",
       " 0.7  0.7  0.7\n",
       " 0.6  0.6  0.6\n",
       " 0.6  0.6  0.6\n",
       " 0.7  0.6  0.6\n",
       " 0.6  0.5  0.6\n",
       " 0.8  0.7  0.7\n",
       " 0.8  0.7  0.7\n",
       " 0.8  0.8  0.8\n",
       " 0.8  0.6  0.6\n",
       " 0.8  0.6  0.6\n",
       " ⋮         \n",
       " 0.5  0.5  0.5\n",
       " 0.8  0.5  0.5\n",
       " 0.7  0.6  0.6\n",
       " 0.8  0.6  0.6\n",
       " 0.6  0.4  0.4\n",
       " 0.8  0.4  0.5\n",
       " 0.7  0.6  0.6\n",
       " 0.7  0.7  0.7\n",
       " 0.8  0.6  0.6\n",
       " 0.8  0.8  0.8\n",
       " 0.8  0.6  0.6\n",
       " 0.6  0.5  0.5"
      ]
     },
     "execution_count": 71,
     "metadata": {},
     "output_type": "execute_result"
    }
   ],
   "source": [
    "# power (proportion of true SNPs recovered) comparisons\n",
    "@show mean(iht_power)\n",
    "@show mean(mvPLINK_power)\n",
    "@show mean(gemma_power)\n",
    "[iht_power mvPLINK_power gemma_power]"
   ]
  },
  {
   "cell_type": "code",
   "execution_count": 72,
   "metadata": {
    "collapsed": false
   },
   "outputs": [
    {
     "name": "stdout",
     "output_type": "stream",
     "text": [
      "mean(iht_FP) = 2.125\n",
      "mean(mvPLINK_FP) = 0.08333333333333333\n",
      "mean(gemma_FP) = 0.0625\n"
     ]
    },
    {
     "data": {
      "text/plain": [
       "48×3 Array{Float64,2}:\n",
       "  7.0  0.0  0.0\n",
       "  3.0  0.0  0.0\n",
       "  1.0  1.0  0.0\n",
       "  0.0  1.0  1.0\n",
       "  2.0  0.0  0.0\n",
       "  0.0  1.0  1.0\n",
       "  1.0  0.0  0.0\n",
       "  5.0  0.0  0.0\n",
       "  0.0  0.0  0.0\n",
       "  1.0  0.0  0.0\n",
       "  0.0  0.0  0.0\n",
       "  5.0  0.0  0.0\n",
       "  8.0  0.0  0.0\n",
       "  ⋮         \n",
       "  0.0  0.0  0.0\n",
       "  4.0  0.0  0.0\n",
       " 11.0  0.0  0.0\n",
       "  0.0  0.0  0.0\n",
       "  0.0  0.0  0.0\n",
       "  8.0  0.0  0.0\n",
       "  0.0  0.0  0.0\n",
       "  0.0  0.0  0.0\n",
       "  0.0  0.0  0.0\n",
       "  2.0  0.0  0.0\n",
       "  5.0  0.0  0.0\n",
       "  0.0  0.0  0.0"
      ]
     },
     "execution_count": 72,
     "metadata": {},
     "output_type": "execute_result"
    }
   ],
   "source": [
    "# Number of false positives\n",
    "@show mean(iht_FP)\n",
    "@show mean(mvPLINK_FP)\n",
    "@show mean(gemma_FP)\n",
    "[iht_FP mvPLINK_FP gemma_FP]"
   ]
  },
  {
   "cell_type": "code",
   "execution_count": 73,
   "metadata": {
    "collapsed": false,
    "scrolled": false
   },
   "outputs": [
    {
     "name": "stdout",
     "output_type": "stream",
     "text": [
      "mean(iht_FPR) = 0.0002126586611114755\n",
      "mean(mvPLINK_FPR) = 8.338753543997375e-6\n",
      "mean(gemma_FPR) = 6.254169460213771e-6\n"
     ]
    },
    {
     "data": {
      "text/plain": [
       "48×3 Array{Float64,2}:\n",
       " 0.00070049   0.0         0.0\n",
       " 0.00030018   0.0         0.0\n",
       " 0.00010008   0.00010006  0.0\n",
       " 0.0          0.00010007  0.00010007\n",
       " 0.00020012   0.0         0.0\n",
       " 0.0          0.00010006  0.00010006\n",
       " 0.00010007   0.0         0.0\n",
       " 0.0005003    0.0         0.0\n",
       " 0.0          0.0         0.0\n",
       " 0.00010008   0.0         0.0\n",
       " 0.0          0.0         0.0\n",
       " 0.0005004    0.0         0.0\n",
       " 0.000800641  0.0         0.0\n",
       " ⋮                        \n",
       " 0.0          0.0         0.0\n",
       " 0.00040032   0.0         0.0\n",
       " 0.00110077   0.0         0.0\n",
       " 0.0          0.0         0.0\n",
       " 0.0          0.0         0.0\n",
       " 0.000800641  0.0         0.0\n",
       " 0.0          0.0         0.0\n",
       " 0.0          0.0         0.0\n",
       " 0.0          0.0         0.0\n",
       " 0.00020016   0.0         0.0\n",
       " 0.0005004    0.0         0.0\n",
       " 0.0          0.0         0.0"
      ]
     },
     "execution_count": 73,
     "metadata": {},
     "output_type": "execute_result"
    }
   ],
   "source": [
    "# False positive rates\n",
    "@show mean(iht_FPR)\n",
    "@show mean(mvPLINK_FPR)\n",
    "@show mean(gemma_FPR)\n",
    "[iht_FPR mvPLINK_FPR gemma_FPR]"
   ]
  },
  {
   "cell_type": "markdown",
   "metadata": {},
   "source": [
    "## Sparse model (simulated genotypes)"
   ]
  },
  {
   "cell_type": "code",
   "execution_count": 8,
   "metadata": {
    "collapsed": false
   },
   "outputs": [
    {
     "name": "stdout",
     "output_type": "stream",
     "text": [
      "mean(iht_time) = 169.51348402163046\n",
      "mean(mvPLINK_time) = 12.378609219913043\n",
      "mean(gemma_time) = 2504.4712677048697\n"
     ]
    },
    {
     "data": {
      "text/plain": [
       "46×3 Array{Float64,2}:\n",
       " 163.511   13.9029      65.852\n",
       " 202.617   12.5483      64.9008\n",
       "  55.812    8.02798     29.9725\n",
       " 169.562   14.2131      57.4539\n",
       "  98.6313   7.1686      29.3038\n",
       " 288.369   11.4195      35.4564\n",
       "  96.624    7.94139     41.3202\n",
       " 181.367   15.308       66.1481\n",
       " 235.195   12.838       43.4029\n",
       " 102.258    8.21246     57.614\n",
       "  99.0519  10.1841   10240.3\n",
       " 117.984   10.3483      32.0624\n",
       "  87.4723  10.0278      27.5549\n",
       "   ⋮                 \n",
       " 210.073   10.0887      32.0299\n",
       " 102.417   13.1494     344.458\n",
       " 204.416   10.3118      33.9908\n",
       " 258.506   14.6631      27.5109\n",
       " 186.475   13.6468      62.6946\n",
       " 276.6     11.4174    2146.12\n",
       " 206.583   18.0525      58.7926\n",
       " 135.894   15.6454     237.984\n",
       " 303.609   17.9606     120.551\n",
       " 132.759   14.7005   25465.1\n",
       " 213.359   15.6241   20178.4\n",
       " 102.632   14.7057     193.112"
      ]
     },
     "execution_count": 8,
     "metadata": {},
     "output_type": "execute_result"
    }
   ],
   "source": [
    "# time comparisons\n",
    "@show mean(iht_time)\n",
    "@show mean(mvPLINK_time)\n",
    "@show mean(gemma_time)\n",
    "[iht_time mvPLINK_time gemma_time]"
   ]
  },
  {
   "cell_type": "code",
   "execution_count": 9,
   "metadata": {
    "collapsed": false
   },
   "outputs": [
    {
     "name": "stdout",
     "output_type": "stream",
     "text": [
      "mean(iht_power) = 0.7195652173913044\n",
      "mean(mvPLINK_power) = 0.6239130434782609\n",
      "mean(gemma_power) = 0.6239130434782609\n"
     ]
    },
    {
     "data": {
      "text/plain": [
       "46×3 Array{Float64,2}:\n",
       " 0.7  0.5  0.5\n",
       " 0.6  0.6  0.6\n",
       " 0.8  0.6  0.6\n",
       " 0.7  0.7  0.7\n",
       " 0.6  0.6  0.6\n",
       " 0.6  0.6  0.6\n",
       " 0.8  0.6  0.6\n",
       " 0.6  0.5  0.5\n",
       " 0.8  0.7  0.7\n",
       " 0.8  0.7  0.7\n",
       " 0.8  0.8  0.8\n",
       " 0.8  0.6  0.6\n",
       " 0.8  0.6  0.6\n",
       " ⋮         \n",
       " 0.5  0.5  0.5\n",
       " 0.8  0.5  0.5\n",
       " 0.7  0.6  0.6\n",
       " 0.8  0.6  0.6\n",
       " 0.5  0.4  0.4\n",
       " 0.5  0.5  0.5\n",
       " 0.8  0.4  0.5\n",
       " 0.7  0.6  0.6\n",
       " 0.7  0.7  0.7\n",
       " 0.8  0.8  0.8\n",
       " 0.8  0.6  0.6\n",
       " 0.6  0.5  0.5"
      ]
     },
     "execution_count": 9,
     "metadata": {},
     "output_type": "execute_result"
    }
   ],
   "source": [
    "# power (proportion of true SNPs recovered) comparisons\n",
    "@show mean(iht_power)\n",
    "@show mean(mvPLINK_power)\n",
    "@show mean(gemma_power)\n",
    "[iht_power mvPLINK_power gemma_power]"
   ]
  },
  {
   "cell_type": "code",
   "execution_count": 10,
   "metadata": {
    "collapsed": false
   },
   "outputs": [
    {
     "name": "stdout",
     "output_type": "stream",
     "text": [
      "mean(iht_FP) = 1.7826086956521738\n",
      "mean(mvPLINK_FP) = 0.08695652173913043\n",
      "mean(gemma_FP) = 0.06521739130434782\n"
     ]
    },
    {
     "data": {
      "text/plain": [
       "46×3 Array{Float64,2}:\n",
       "  4.0  0.0  0.0\n",
       "  1.0  0.0  0.0\n",
       "  1.0  1.0  0.0\n",
       "  1.0  1.0  1.0\n",
       "  3.0  0.0  0.0\n",
       "  0.0  1.0  1.0\n",
       "  0.0  0.0  0.0\n",
       "  6.0  0.0  0.0\n",
       "  3.0  0.0  0.0\n",
       "  0.0  0.0  0.0\n",
       "  0.0  0.0  0.0\n",
       "  1.0  0.0  0.0\n",
       "  3.0  0.0  0.0\n",
       "  ⋮         \n",
       "  0.0  0.0  0.0\n",
       "  2.0  0.0  0.0\n",
       " 10.0  0.0  0.0\n",
       "  0.0  0.0  0.0\n",
       "  0.0  0.0  0.0\n",
       "  0.0  0.0  0.0\n",
       "  7.0  0.0  0.0\n",
       "  0.0  0.0  0.0\n",
       "  0.0  0.0  0.0\n",
       "  2.0  0.0  0.0\n",
       "  6.0  0.0  0.0\n",
       "  0.0  0.0  0.0"
      ]
     },
     "execution_count": 10,
     "metadata": {},
     "output_type": "execute_result"
    }
   ],
   "source": [
    "# Number of false positives\n",
    "@show mean(iht_FP)\n",
    "@show mean(mvPLINK_FP)\n",
    "@show mean(gemma_FP)\n",
    "[iht_FP mvPLINK_FP gemma_FP]"
   ]
  },
  {
   "cell_type": "code",
   "execution_count": 11,
   "metadata": {
    "collapsed": false
   },
   "outputs": [
    {
     "name": "stdout",
     "output_type": "stream",
     "text": [
      "mean(iht_FPR) = 0.00017839531960002123\n",
      "mean(mvPLINK_FPR) = 8.701308045910303e-6\n",
      "mean(gemma_FPR) = 6.526089871527413e-6\n"
     ]
    },
    {
     "data": {
      "text/plain": [
       "46×3 Array{Float64,2}:\n",
       " 0.00040028  0.0         0.0\n",
       " 0.00010006  0.0         0.0\n",
       " 0.00010008  0.00010006  0.0\n",
       " 0.00010007  0.00010007  0.00010007\n",
       " 0.00030018  0.0         0.0\n",
       " 0.0         0.00010006  0.00010006\n",
       " 0.0         0.0         0.0\n",
       " 0.00060036  0.0         0.0\n",
       " 0.00030024  0.0         0.0\n",
       " 0.0         0.0         0.0\n",
       " 0.0         0.0         0.0\n",
       " 0.00010008  0.0         0.0\n",
       " 0.00030024  0.0         0.0\n",
       " ⋮                       \n",
       " 0.0         0.0         0.0\n",
       " 0.00020016  0.0         0.0\n",
       " 0.0010007   0.0         0.0\n",
       " 0.0         0.0         0.0\n",
       " 0.0         0.0         0.0\n",
       " 0.0         0.0         0.0\n",
       " 0.00070056  0.0         0.0\n",
       " 0.0         0.0         0.0\n",
       " 0.0         0.0         0.0\n",
       " 0.00020016  0.0         0.0\n",
       " 0.00060048  0.0         0.0\n",
       " 0.0         0.0         0.0"
      ]
     },
     "execution_count": 11,
     "metadata": {},
     "output_type": "execute_result"
    }
   ],
   "source": [
    "# False positive rates\n",
    "@show mean(iht_FPR)\n",
    "@show mean(mvPLINK_FPR)\n",
    "@show mean(gemma_FPR)\n",
    "[iht_FPR mvPLINK_FPR gemma_FPR]"
   ]
  },
  {
   "cell_type": "code",
   "execution_count": 22,
   "metadata": {
    "collapsed": false
   },
   "outputs": [
    {
     "data": {
      "image/png": "[encoded data removed]"
     },
     "metadata": {},
     "output_type": "display_data"
    }
   ],
   "source": [
    "# mvPLINK QQ plots (polygenic)\n",
    "filename = \"plink.mqfam.polygenic.total\"\n",
    "mvplink_df = CSV.read(filename, DataFrame, delim=' ', ignorerepeated=true)\n",
    "if eltype(mvplink_df[!, :P]) == Float64\n",
    "    pval = mvplink_df[!, :P]\n",
    "else\n",
    "    mvplink_df[findall(x -> x == \"NA\", mvplink_df[!, :P]), :P] .= \"1.0\"\n",
    "    pval = parse.(Float64, mvplink_df[!, :P])\n",
    "end\n",
    "pval[findall(iszero, pval)] .= 1e-10\n",
    "qq(pval, ylabel=\"mvPLINK observed -log10(p)\")\n",
    "display(\"image/png\", read(\"qqplot.png\"))"
   ]
  },
  {
   "cell_type": "code",
   "execution_count": 21,
   "metadata": {
    "collapsed": false
   },
   "outputs": [
    {
     "data": {
      "image/png": "[encoded data removed]"
     },
     "metadata": {},
     "output_type": "display_data"
    }
   ],
   "source": [
    "# GEMMA QQ plots (polygenic model)\n",
    "sim = 2\n",
    "filename = \"gemma.polygenic.result.assoc.txt\"\n",
    "gemma_df = CSV.read(filename, DataFrame)\n",
    "pval_wald = gemma_df[!, :p_wald]\n",
    "pval_wald[findall(iszero, pval_wald)] .= 1e-10\n",
    "qq(pval_wald, ylabel=\"GEMMA observed -log10(p)\")\n",
    "display(\"image/png\", read(\"qqplot.png\"))"
   ]
  },
  {
   "cell_type": "code",
   "execution_count": null,
   "metadata": {
    "collapsed": true
   },
   "outputs": [],
   "source": []
  }
 ],
 "metadata": {
  "@webio": {
   "lastCommId": null,
   "lastKernelId": null
  },
  "kernelspec": {
   "display_name": "Julia 1.6.0",
   "language": "julia",
   "name": "julia-1.6"
  },
  "language_info": {
   "file_extension": ".jl",
   "mimetype": "application/julia",
   "name": "julia",
   "version": "1.6.0"
  }
 },
 "nbformat": 4,
 "nbformat_minor": 2
}
