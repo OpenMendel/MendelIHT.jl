{
 "cells": [
  {
   "cell_type": "markdown",
   "metadata": {},
   "source": [
    "# FAQ\n",
    "\n",
    "If you do not find your problem here, or the provided solution does not solve your problem, please file an issue on [GitHub](https://github.com/OpenMendel/MendelIHT.jl/issues). "
   ]
  },
  {
   "cell_type": "markdown",
   "metadata": {},
   "source": [
    "## First-time Performance\n",
    "\n",
    "In a fresh Julia session, the first time any function gets called will take a *long* time because the code has to be compiled on the spot. For instance, compare\n"
   ]
  },
  {
   "cell_type": "code",
   "execution_count": 1,
   "metadata": {
    "collapsed": false
   },
   "outputs": [
    {
     "name": "stdout",
     "output_type": "stream",
     "text": [
      "  4.493948 seconds (9.04 M allocations: 564.071 MiB, 8.22% gc time)\n"
     ]
    }
   ],
   "source": [
    "@time using MendelIHT"
   ]
  },
  {
   "cell_type": "code",
   "execution_count": 2,
   "metadata": {
    "collapsed": false
   },
   "outputs": [
    {
     "name": "stdout",
     "output_type": "stream",
     "text": [
      "  0.020589 seconds (32.81 k allocations: 1.886 MiB, 99.54% compilation time)\n"
     ]
    }
   ],
   "source": [
    "@time using MendelIHT"
   ]
  },
  {
   "cell_type": "markdown",
   "metadata": {},
   "source": [
    "The first call was 200 times slower than the second time! Fortunately, for large problems, compilation time becomes negligible. "
   ]
  },
  {
   "cell_type": "markdown",
   "metadata": {},
   "source": [
    "## How to run code in parallel?\n",
    "\n",
    "If Julia is started with multiple threads (e.g. `julia --threads 4`), `MendelIHT.jl` will automatically run your code in parallel. \n",
    "\n",
    "+ [How to start Julia with multiple threads](https://docs.julialang.org/en/v1/manual/multi-threading/#Starting-Julia-with-multiple-threads).\n",
    "+ Execute `Threads.nthreads()` within Julia to check if multiple thread is enabled\n",
    "\n",
    "## Phenotype quality control\n",
    "\n",
    "Our software assumes phenotypes have been properly quality controlled. For instance\n",
    "\n",
    "+ There no are missing values (except possibly for Gaussian traits where we impute them with the mean). \n",
    "+ when running sparse linear regression, phenotypes should be approximately Gaussian\n",
    "+ when running Poisson regression, phenotypes should have approximately equal mean and variance\n",
    "+ when running multivariate traits, phenotypes are normalized\n",
    "\n",
    "...etc.\n",
    "\n",
    "Execute your judicious judgement!\n",
    "\n",
    "## When to standardize phenotypes?\n",
    "\n",
    "Only multivariate Guassian traits should be standardize to mean 0 variance 1. This ensures that mean squared error in cross-validation among traits are comparable, so the tuning process is driven by all traits.\n",
    "\n",
    "For single trait analysis, standardization is not necessary.\n",
    "\n",
    "## When to standardize covariates?\n",
    "\n",
    "**Always** standardize your covariates (genetic and non-genetic) to mean 0 variance 1. This ensures sparsity is enforced equally on all predictors. \n",
    "\n",
    "For binary PLINK files (.bed/.bim/.fam) standardization is automatic. When using wrapper functions [cross_validate()](https://openmendel.github.io/MendelIHT.jl/latest/man/api/#MendelIHT.cross_validate) and [iht()](https://openmendel.github.io/MendelIHT.jl/latest/man/api/#MendelIHT.iht), non-genetic covariate will also be automatically standardized. However using internal functions [fit_iht()](https://openmendel.github.io/MendelIHT.jl/latest/man/api/#MendelIHT.iht) and [cv_iht()](https://openmendel.github.io/MendelIHT.jl/latest/man/api/#MendelIHT.cv_iht) bypasses standardization and is generally recommended only if wrapper functions do not work for your purposes. \n",
    "\n",
    "## How to enforce sparsity on non-genetic covariates?\n",
    "\n",
    "The `zkeep` parameter will allow non-genetic covariates to be subject to selection. Say you have 5 covariates, and you want to always keep the first 3 in the model but possibly set the last 2 to zero. You can do"
   ]
  },
  {
   "cell_type": "code",
   "execution_count": 7,
   "metadata": {
    "collapsed": false
   },
   "outputs": [
    {
     "data": {
      "text/plain": [
       "5-element BitVector:\n",
       " 1\n",
       " 1\n",
       " 1\n",
       " 0\n",
       " 0"
      ]
     },
     "execution_count": 7,
     "metadata": {},
     "output_type": "execute_result"
    }
   ],
   "source": [
    "zkeep = trues(5)\n",
    "zkeep[4:5] .= false\n",
    "zkeep\n",
    "\n",
    "# now input zkeep as keyword argument for the wrapper or core functions, e.g. \n",
    "# iht(plinkfile, k, d, zkeep=zkeep)"
   ]
  },
  {
   "cell_type": "markdown",
   "metadata": {},
   "source": [
    "Note `zkeep` is a `BitVector` and not a `Vector{Bool}`. "
   ]
  },
  {
   "cell_type": "markdown",
   "metadata": {},
   "source": [
    "## Missing data?\n",
    "\n",
    "In general, any sample or covariate with large proportion of missing (e.g. >10%) should be excluded. But our software does have a few built-in mechanisms for handling them.\n",
    "\n",
    "**Phenotypes:** Gaussian phenotypes can be internally imputed with the mean. Binary/count phenotypes cannot be imputed.\n",
    "\n",
    "**Genotypes:** All genotypes can be imputed with the mean. \n",
    "\n",
    "**Nongenetic covariates**: These cannot be imputed. Please impute them before running IHT.\n",
    "\n",
    "## Keyword arguments?\n",
    "\n",
    "Julia supports 2 types of \"optional\" arguments. Optional arguments specified before semicolon `;` can be directly inputted. Optional arguments specified after semicolon `;` needs to be explicitly inputted as `varname = x`. For instance, "
   ]
  },
  {
   "cell_type": "code",
   "execution_count": 12,
   "metadata": {
    "collapsed": false
   },
   "outputs": [
    {
     "name": "stdout",
     "output_type": "stream",
     "text": [
      "add(0) = 3\n",
      "add(0, 3) = 5\n",
      "add(0, 5, c = 10) = 15\n"
     ]
    }
   ],
   "source": [
    "function add(a::Int, b::Int=1; c::Int=2)\n",
    "    return a + b + c \n",
    "end\n",
    "@show add(0)             # 0 + b + c using default value for b, c\n",
    "@show add(0, 3)          # 0 + b + c using b = 3 and default value for c\n",
    "@show add(0, 5, c=10);   # 0 + b + c using b = 5 and c = 10"
   ]
  },
  {
   "cell_type": "markdown",
   "metadata": {},
   "source": [
    "## Will IHT work on sequence/imputed data?\n",
    "\n",
    "If someone can test this out and tell us, that would be extremely helpful."
   ]
  }
 ],
 "metadata": {
  "kernelspec": {
   "display_name": "Julia 1.6.0",
   "language": "julia",
   "name": "julia-1.6"
  },
  "language_info": {
   "file_extension": ".jl",
   "mimetype": "application/julia",
   "name": "julia",
   "version": "1.6.0"
  }
 },
 "nbformat": 4,
 "nbformat_minor": 2
}
